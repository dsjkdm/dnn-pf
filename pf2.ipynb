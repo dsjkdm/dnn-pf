{
 "cells": [
  {
   "cell_type": "markdown",
   "metadata": {},
   "source": [
    "# Introducción a las redes neuronales profundas\n",
    "# Proyecto 2 \n",
    "\n",
    "Clasificar los vectores x1 y x2 usando backpropagation en una red neuronal shallow, para ello usar los siguientes métodos:\n",
    "\n",
    "1. Usando SDBP\n",
    "2. Método de momento\n",
    "3. Método de Levenberg-Marquardt"
   ]
  },
  {
   "cell_type": "code",
   "execution_count": 1,
   "metadata": {},
   "outputs": [
    {
     "name": "stderr",
     "output_type": "stream",
     "text": [
      "Using TensorFlow backend.\n"
     ]
    }
   ],
   "source": [
    "import keras\n",
    "import numpy as np\n",
    "import matplotlib.pyplot as plt\n",
    "from keras.layers import Dense\n",
    "from keras.optimizers import SGD\n",
    "from keras.models import Sequential\n",
    "from keras.utils import to_categorical\n",
    "from neupy import algorithms, layers\n",
    "from neupy import plots\n",
    "%matplotlib inline"
   ]
  },
  {
   "cell_type": "code",
   "execution_count": 2,
   "metadata": {},
   "outputs": [],
   "source": [
    "x1 = np.array([[-4,-3],[-4,-1],[-3,-3],[-3,-1],[-3,0],[-2,-2],[0,-1],[1,-1],[1,0],[1,2],\n",
    "               [2,-1],[2,1],[2,2],[2,3],[2,4],[3,-4],[3,-3],[3,-2],[3,-1],[4,-1]])\n",
    "\n",
    "x2 = np.array([[-1,-4],[-1,-3],[-1,2],[-1,3],[-1,4],[0,-4],[0,-3],[0,2],[1,-5],[1,-4],\n",
    "               [1,4],[3,2],[3,3],[4,1],[4,2]])"
   ]
  },
  {
   "cell_type": "code",
   "execution_count": 3,
   "metadata": {},
   "outputs": [
    {
     "data": {
      "image/png": "[encoded data removed]",
      "text/plain": [
       "<Figure size 432x288 with 1 Axes>"
      ]
     },
     "metadata": {
      "needs_background": "light"
     },
     "output_type": "display_data"
    }
   ],
   "source": [
    "plt.scatter(x1[:,0], x1[:,1], marker='+')\n",
    "plt.scatter(x2[:,0], x2[:,1], marker='o')\n",
    "plt.title('Vectores a ser clasificados')\n",
    "plt.grid(True)\n",
    "plt.show()"
   ]
  },
  {
   "cell_type": "code",
   "execution_count": 4,
   "metadata": {},
   "outputs": [],
   "source": [
    "X = np.concatenate((x1, x2))\n",
    "y = np.concatenate((np.ones(20), np.zeros(15)))\n",
    "y_binary = to_categorical(y)"
   ]
  },
  {
   "cell_type": "markdown",
   "metadata": {},
   "source": [
    "### Método SDBP\n",
    "\n",
    "En el método de la retropropagación, el error de la capa de salida se propaga hacia atras hasta llegar a la última capa, para actualizar los pesos y los sesgos, reduciendo asi el error.\n",
    "\n",
    "La actualización de los pesos se realiza en la direccion opuesta al máximo incremento, usando el gradiente descendiente de la función de error con respecto a los parametros.\n",
    "\n",
    "La actualización de los parámetros de la red neuronal se realizan de la siguiente manera:\n",
    "\n",
    "$$w_{t+1} = w_t - \\nabla w_t$$\n",
    "$$b_{t+1} = b_t - \\nabla w_t $$\n",
    "\n",
    "$$\\nabla w_t = -\\epsilon \\nabla_w E(w_t)$$\n",
    "\n"
   ]
  },
  {
   "cell_type": "code",
   "execution_count": 5,
   "metadata": {},
   "outputs": [],
   "source": [
    "net1 = Sequential()\n",
    "net1.add(Dense(30, activation='tanh', input_shape=(2,)))\n",
    "net1.add(Dense(30, activation='relu'))\n",
    "net1.add(Dense(2, activation='softmax'))"
   ]
  },
  {
   "cell_type": "code",
   "execution_count": 6,
   "metadata": {},
   "outputs": [],
   "source": [
    "net1.compile(optimizer=SGD(lr=0.005), \n",
    "             loss='categorical_crossentropy', \n",
    "             metrics=['accuracy'])"
   ]
  },
  {
   "cell_type": "code",
   "execution_count": 7,
   "metadata": {},
   "outputs": [
    {
     "name": "stdout",
     "output_type": "stream",
     "text": [
      "_________________________________________________________________\n",
      "Layer (type)                 Output Shape              Param #   \n",
      "=================================================================\n",
      "dense_1 (Dense)              (None, 30)                90        \n",
      "_________________________________________________________________\n",
      "dense_2 (Dense)              (None, 30)                930       \n",
      "_________________________________________________________________\n",
      "dense_3 (Dense)              (None, 2)                 62        \n",
      "=================================================================\n",
      "Total params: 1,082\n",
      "Trainable params: 1,082\n",
      "Non-trainable params: 0\n",
      "_________________________________________________________________\n"
     ]
    }
   ],
   "source": [
    "net1.summary()"
   ]
  },
  {
   "cell_type": "code",
   "execution_count": 8,
   "metadata": {},
   "outputs": [
    {
     "name": "stdout",
     "output_type": "stream",
     "text": [
      "Epoch 1/100\n",
      "35/35 [==============================] - 0s 4ms/step - loss: 0.8581 - acc: 0.6000\n",
      "Epoch 2/100\n",
      "35/35 [==============================] - 0s 830us/step - loss: 0.7168 - acc: 0.6571\n",
      "Epoch 3/100\n",
      "35/35 [==============================] - 0s 965us/step - loss: 0.6471 - acc: 0.6286\n",
      "Epoch 4/100\n",
      "35/35 [==============================] - 0s 941us/step - loss: 0.6094 - acc: 0.6857\n",
      "Epoch 5/100\n",
      "35/35 [==============================] - 0s 860us/step - loss: 0.5823 - acc: 0.7143\n",
      "Epoch 6/100\n",
      "35/35 [==============================] - 0s 829us/step - loss: 0.5633 - acc: 0.7429\n",
      "Epoch 7/100\n",
      "35/35 [==============================] - 0s 847us/step - loss: 0.5436 - acc: 0.7429\n",
      "Epoch 8/100\n",
      "35/35 [==============================] - 0s 760us/step - loss: 0.5337 - acc: 0.8000\n",
      "Epoch 9/100\n",
      "35/35 [==============================] - 0s 800us/step - loss: 0.5204 - acc: 0.7714\n",
      "Epoch 10/100\n",
      "35/35 [==============================] - 0s 891us/step - loss: 0.5077 - acc: 0.8000\n",
      "Epoch 11/100\n",
      "35/35 [==============================] - 0s 841us/step - loss: 0.4961 - acc: 0.8286\n",
      "Epoch 12/100\n",
      "35/35 [==============================] - 0s 822us/step - loss: 0.4843 - acc: 0.7714\n",
      "Epoch 13/100\n",
      "35/35 [==============================] - 0s 941us/step - loss: 0.4751 - acc: 0.8000\n",
      "Epoch 14/100\n",
      "35/35 [==============================] - 0s 1ms/step - loss: 0.4645 - acc: 0.8000\n",
      "Epoch 15/100\n",
      "35/35 [==============================] - 0s 1ms/step - loss: 0.4541 - acc: 0.8286\n",
      "Epoch 16/100\n",
      "35/35 [==============================] - 0s 1ms/step - loss: 0.4439 - acc: 0.8286\n",
      "Epoch 17/100\n",
      "35/35 [==============================] - 0s 794us/step - loss: 0.4339 - acc: 0.8000\n",
      "Epoch 18/100\n",
      "35/35 [==============================] - 0s 923us/step - loss: 0.4252 - acc: 0.7714\n",
      "Epoch 19/100\n",
      "35/35 [==============================] - 0s 835us/step - loss: 0.4161 - acc: 0.7714\n",
      "Epoch 20/100\n",
      "35/35 [==============================] - 0s 706us/step - loss: 0.4077 - acc: 0.8286\n",
      "Epoch 21/100\n",
      "35/35 [==============================] - 0s 727us/step - loss: 0.3998 - acc: 0.8286\n",
      "Epoch 22/100\n",
      "35/35 [==============================] - 0s 751us/step - loss: 0.3899 - acc: 0.8000\n",
      "Epoch 23/100\n",
      "35/35 [==============================] - 0s 700us/step - loss: 0.3854 - acc: 0.7714\n",
      "Epoch 24/100\n",
      "35/35 [==============================] - 0s 774us/step - loss: 0.3724 - acc: 0.8571\n",
      "Epoch 25/100\n",
      "35/35 [==============================] - 0s 749us/step - loss: 0.3697 - acc: 0.7714\n",
      "Epoch 26/100\n",
      "35/35 [==============================] - 0s 1ms/step - loss: 0.3604 - acc: 0.8286\n",
      "Epoch 27/100\n",
      "35/35 [==============================] - 0s 1ms/step - loss: 0.3475 - acc: 0.8571\n",
      "Epoch 28/100\n",
      "35/35 [==============================] - 0s 1ms/step - loss: 0.3453 - acc: 0.8286\n",
      "Epoch 29/100\n",
      "35/35 [==============================] - 0s 1ms/step - loss: 0.3374 - acc: 0.8571\n",
      "Epoch 30/100\n",
      "35/35 [==============================] - 0s 1ms/step - loss: 0.3261 - acc: 0.8286\n",
      "Epoch 31/100\n",
      "35/35 [==============================] - 0s 1ms/step - loss: 0.3227 - acc: 0.8286\n",
      "Epoch 32/100\n",
      "35/35 [==============================] - 0s 966us/step - loss: 0.3142 - acc: 0.8571\n",
      "Epoch 33/100\n",
      "35/35 [==============================] - 0s 964us/step - loss: 0.3083 - acc: 0.8571\n",
      "Epoch 34/100\n",
      "35/35 [==============================] - 0s 713us/step - loss: 0.3006 - acc: 0.9143\n",
      "Epoch 35/100\n",
      "35/35 [==============================] - 0s 875us/step - loss: 0.2925 - acc: 0.9143\n",
      "Epoch 36/100\n",
      "35/35 [==============================] - 0s 767us/step - loss: 0.2849 - acc: 0.9714\n",
      "Epoch 37/100\n",
      "35/35 [==============================] - 0s 739us/step - loss: 0.2798 - acc: 0.9143\n",
      "Epoch 38/100\n",
      "35/35 [==============================] - 0s 752us/step - loss: 0.2700 - acc: 0.9714\n",
      "Epoch 39/100\n",
      "35/35 [==============================] - 0s 791us/step - loss: 0.2681 - acc: 0.9143\n",
      "Epoch 40/100\n",
      "35/35 [==============================] - 0s 729us/step - loss: 0.2541 - acc: 0.9714\n",
      "Epoch 41/100\n",
      "35/35 [==============================] - 0s 666us/step - loss: 0.2567 - acc: 0.9714\n",
      "Epoch 42/100\n",
      "35/35 [==============================] - 0s 944us/step - loss: 0.2490 - acc: 0.9429\n",
      "Epoch 43/100\n",
      "35/35 [==============================] - 0s 1ms/step - loss: 0.2441 - acc: 0.9714\n",
      "Epoch 44/100\n",
      "35/35 [==============================] - 0s 857us/step - loss: 0.2384 - acc: 1.0000\n",
      "Epoch 45/100\n",
      "35/35 [==============================] - 0s 734us/step - loss: 0.2338 - acc: 1.0000\n",
      "Epoch 46/100\n",
      "35/35 [==============================] - 0s 885us/step - loss: 0.2265 - acc: 0.9714\n",
      "Epoch 47/100\n",
      "35/35 [==============================] - 0s 780us/step - loss: 0.2230 - acc: 1.0000\n",
      "Epoch 48/100\n",
      "35/35 [==============================] - 0s 741us/step - loss: 0.2120 - acc: 0.9714\n",
      "Epoch 49/100\n",
      "35/35 [==============================] - 0s 738us/step - loss: 0.2095 - acc: 0.9714\n",
      "Epoch 50/100\n",
      "35/35 [==============================] - 0s 797us/step - loss: 0.2071 - acc: 0.9714\n",
      "Epoch 51/100\n",
      "35/35 [==============================] - 0s 775us/step - loss: 0.2036 - acc: 0.9429\n",
      "Epoch 52/100\n",
      "35/35 [==============================] - 0s 840us/step - loss: 0.1978 - acc: 0.9714\n",
      "Epoch 53/100\n",
      "35/35 [==============================] - 0s 772us/step - loss: 0.1979 - acc: 1.0000\n",
      "Epoch 54/100\n",
      "35/35 [==============================] - 0s 781us/step - loss: 0.1934 - acc: 1.0000\n",
      "Epoch 55/100\n",
      "35/35 [==============================] - 0s 1ms/step - loss: 0.1867 - acc: 1.0000\n",
      "Epoch 56/100\n",
      "35/35 [==============================] - 0s 2ms/step - loss: 0.1849 - acc: 0.9714\n",
      "Epoch 57/100\n",
      "35/35 [==============================] - 0s 1ms/step - loss: 0.1787 - acc: 0.9714\n",
      "Epoch 58/100\n",
      "35/35 [==============================] - 0s 1ms/step - loss: 0.1743 - acc: 1.0000\n",
      "Epoch 59/100\n",
      "35/35 [==============================] - 0s 818us/step - loss: 0.1767 - acc: 1.0000\n",
      "Epoch 60/100\n",
      "35/35 [==============================] - 0s 1ms/step - loss: 0.1686 - acc: 1.0000\n",
      "Epoch 61/100\n",
      "35/35 [==============================] - 0s 784us/step - loss: 0.1691 - acc: 1.0000\n",
      "Epoch 62/100\n",
      "35/35 [==============================] - 0s 797us/step - loss: 0.1640 - acc: 1.0000\n",
      "Epoch 63/100\n",
      "35/35 [==============================] - 0s 946us/step - loss: 0.1632 - acc: 1.0000\n",
      "Epoch 64/100\n",
      "35/35 [==============================] - 0s 946us/step - loss: 0.1521 - acc: 0.9714\n",
      "Epoch 65/100\n",
      "35/35 [==============================] - 0s 877us/step - loss: 0.1560 - acc: 1.0000\n",
      "Epoch 66/100\n",
      "35/35 [==============================] - 0s 937us/step - loss: 0.1523 - acc: 0.9714\n",
      "Epoch 67/100\n",
      "35/35 [==============================] - 0s 783us/step - loss: 0.1503 - acc: 1.0000\n",
      "Epoch 68/100\n",
      "35/35 [==============================] - 0s 729us/step - loss: 0.1484 - acc: 1.0000\n",
      "Epoch 69/100\n",
      "35/35 [==============================] - 0s 913us/step - loss: 0.1453 - acc: 1.0000\n",
      "Epoch 70/100\n",
      "35/35 [==============================] - 0s 876us/step - loss: 0.1423 - acc: 1.0000\n",
      "Epoch 71/100\n",
      "35/35 [==============================] - 0s 962us/step - loss: 0.1423 - acc: 1.0000\n",
      "Epoch 72/100\n",
      "35/35 [==============================] - 0s 918us/step - loss: 0.1376 - acc: 1.0000\n",
      "Epoch 73/100\n",
      "35/35 [==============================] - 0s 1ms/step - loss: 0.1366 - acc: 1.0000\n",
      "Epoch 74/100\n",
      "35/35 [==============================] - 0s 1ms/step - loss: 0.1341 - acc: 1.0000\n",
      "Epoch 75/100\n",
      "35/35 [==============================] - 0s 854us/step - loss: 0.1327 - acc: 1.0000\n",
      "Epoch 76/100\n",
      "35/35 [==============================] - 0s 749us/step - loss: 0.1295 - acc: 1.0000\n",
      "Epoch 77/100\n",
      "35/35 [==============================] - 0s 1ms/step - loss: 0.1273 - acc: 1.0000\n",
      "Epoch 78/100\n",
      "35/35 [==============================] - 0s 1ms/step - loss: 0.1261 - acc: 1.0000\n",
      "Epoch 79/100\n",
      "35/35 [==============================] - 0s 2ms/step - loss: 0.1203 - acc: 1.0000\n",
      "Epoch 80/100\n",
      "35/35 [==============================] - 0s 1ms/step - loss: 0.1178 - acc: 1.0000\n",
      "Epoch 81/100\n",
      "35/35 [==============================] - 0s 895us/step - loss: 0.1223 - acc: 1.0000\n",
      "Epoch 82/100\n",
      "35/35 [==============================] - 0s 1ms/step - loss: 0.1172 - acc: 1.0000\n",
      "Epoch 83/100\n",
      "35/35 [==============================] - 0s 1ms/step - loss: 0.1155 - acc: 1.0000\n",
      "Epoch 84/100\n",
      "35/35 [==============================] - 0s 890us/step - loss: 0.1120 - acc: 1.0000\n",
      "Epoch 85/100\n",
      "35/35 [==============================] - 0s 909us/step - loss: 0.1144 - acc: 1.0000\n",
      "Epoch 86/100\n",
      "35/35 [==============================] - 0s 890us/step - loss: 0.1123 - acc: 1.0000\n",
      "Epoch 87/100\n",
      "35/35 [==============================] - 0s 2ms/step - loss: 0.1103 - acc: 1.0000\n",
      "Epoch 88/100\n",
      "35/35 [==============================] - 0s 2ms/step - loss: 0.1079 - acc: 1.0000\n",
      "Epoch 89/100\n",
      "35/35 [==============================] - 0s 2ms/step - loss: 0.1064 - acc: 1.0000\n",
      "Epoch 90/100\n",
      "35/35 [==============================] - 0s 1ms/step - loss: 0.1031 - acc: 1.0000\n",
      "Epoch 91/100\n",
      "35/35 [==============================] - 0s 1ms/step - loss: 0.1043 - acc: 1.0000\n",
      "Epoch 92/100\n",
      "35/35 [==============================] - 0s 1ms/step - loss: 0.1025 - acc: 1.0000\n",
      "Epoch 93/100\n",
      "35/35 [==============================] - 0s 1ms/step - loss: 0.0988 - acc: 1.0000\n",
      "Epoch 94/100\n",
      "35/35 [==============================] - 0s 1ms/step - loss: 0.1000 - acc: 1.0000\n",
      "Epoch 95/100\n",
      "35/35 [==============================] - 0s 2ms/step - loss: 0.0971 - acc: 1.0000\n",
      "Epoch 96/100\n",
      "35/35 [==============================] - 0s 2ms/step - loss: 0.0969 - acc: 1.0000\n",
      "Epoch 97/100\n",
      "35/35 [==============================] - 0s 1ms/step - loss: 0.0942 - acc: 1.0000\n",
      "Epoch 98/100\n",
      "35/35 [==============================] - 0s 2ms/step - loss: 0.0926 - acc: 1.0000\n",
      "Epoch 99/100\n",
      "35/35 [==============================] - 0s 2ms/step - loss: 0.0924 - acc: 1.0000\n",
      "Epoch 100/100\n",
      "35/35 [==============================] - 0s 2ms/step - loss: 0.0894 - acc: 1.0000\n"
     ]
    }
   ],
   "source": [
    "history1 = net1.fit(X, y_binary, epochs=100, batch_size=1)"
   ]
  },
  {
   "cell_type": "code",
   "execution_count": 9,
   "metadata": {},
   "outputs": [
    {
     "data": {
      "image/png": "[encoded data removed]",
      "text/plain": [
       "<Figure size 864x432 with 2 Axes>"
      ]
     },
     "metadata": {
      "needs_background": "light"
     },
     "output_type": "display_data"
    }
   ],
   "source": [
    "plt.figure(figsize=(12, 6)).suptitle('Método de SGD')\n",
    "plt.subplot(121)\n",
    "plt.plot(history1.epoch, history1.history['loss'])\n",
    "plt.title('Loss')\n",
    "plt.subplot(122)\n",
    "plt.plot(history1.epoch, history1.history['acc'])\n",
    "plt.title('Accuracy')\n",
    "plt.show()"
   ]
  },
  {
   "cell_type": "code",
   "execution_count": 10,
   "metadata": {},
   "outputs": [],
   "source": [
    "steps = 500\n",
    "xx, yy = np.meshgrid(np.linspace(-8, 8, steps), np.linspace(-8, 8, steps))\n",
    "\n",
    "xxyy = np.hstack((xx.reshape(steps*steps, 1), yy.reshape(steps*steps, 1)))\n",
    "grid_prediction = np.argmax(net1.predict(xxyy), axis=1)\n",
    "grid_prediction.shape = (steps, steps)"
   ]
  },
  {
   "cell_type": "code",
   "execution_count": 27,
   "metadata": {},
   "outputs": [
    {
     "data": {
      "image/png": "[encoded data removed]",
      "text/plain": [
       "<Figure size 504x504 with 1 Axes>"
      ]
     },
     "metadata": {
      "needs_background": "light"
     },
     "output_type": "display_data"
    }
   ],
   "source": [
    "plt.figure(figsize=(7,7))\n",
    "plt.contourf(xx, yy, grid_prediction, cmap='Set2')\n",
    "plt.scatter(x1[:,0], x1[:,1], marker='+')\n",
    "plt.scatter(x2[:,0], x2[:,1], marker='o')\n",
    "plt.title('Superficie de desicion')\n",
    "plt.show()"
   ]
  },
  {
   "cell_type": "markdown",
   "metadata": {},
   "source": [
    "### Método de momento\n",
    "\n",
    "El parámetro del momento en las ecuaciones de la retropopagación es análogo a la masa de las particulas Newtonianas, que se mueven a traves de un medio viscoso en un campo de fuerza conservativo. El comportamiento del sistema cerca de un mínimo local es equivalente a un conjunto de osciladores armonicos amortiguados. Incluir el parámetro del momento mejora la velocidad de convergencia\n",
    "\n",
    "La siguiente ecuación indica como se actualizan los parámetros de la red:\n",
    "\n",
    "$$\\nabla w_t = -\\epsilon \\nabla_w E(w_t) + p\\nabla_{w_{t-1}} $$\n",
    "\n",
    "La modificación del vector de pesos en un instante de tiempo dado depende del gradiente de la función de error en el instante presente y del cambio del vector de pesos en el instante anterior."
   ]
  },
  {
   "cell_type": "code",
   "execution_count": 12,
   "metadata": {},
   "outputs": [],
   "source": [
    "net2 = Sequential()\n",
    "net2.add(Dense(30, activation='tanh', input_shape=(2,)))\n",
    "net2.add(Dense(30, activation='relu'))\n",
    "net2.add(Dense(2, activation='softmax'))"
   ]
  },
  {
   "cell_type": "code",
   "execution_count": 13,
   "metadata": {},
   "outputs": [],
   "source": [
    "net2.compile(optimizer=SGD(lr=0.005, momentum=0.9), \n",
    "             loss='categorical_crossentropy', \n",
    "             metrics=['accuracy'])"
   ]
  },
  {
   "cell_type": "code",
   "execution_count": 14,
   "metadata": {},
   "outputs": [
    {
     "name": "stdout",
     "output_type": "stream",
     "text": [
      "Epoch 1/100\n",
      "35/35 [==============================] - 0s 4ms/step - loss: 0.8349 - acc: 0.6571\n",
      "Epoch 2/100\n",
      "35/35 [==============================] - 0s 866us/step - loss: 0.6289 - acc: 0.7429\n",
      "Epoch 3/100\n",
      "35/35 [==============================] - 0s 813us/step - loss: 0.4897 - acc: 0.7429\n",
      "Epoch 4/100\n",
      "35/35 [==============================] - 0s 780us/step - loss: 0.4613 - acc: 0.7429\n",
      "Epoch 5/100\n",
      "35/35 [==============================] - 0s 657us/step - loss: 0.4188 - acc: 0.8286\n",
      "Epoch 6/100\n",
      "35/35 [==============================] - 0s 737us/step - loss: 0.3787 - acc: 0.8286\n",
      "Epoch 7/100\n",
      "35/35 [==============================] - 0s 774us/step - loss: 0.3186 - acc: 0.9143\n",
      "Epoch 8/100\n",
      "35/35 [==============================] - 0s 1ms/step - loss: 0.3911 - acc: 0.9143\n",
      "Epoch 9/100\n",
      "35/35 [==============================] - 0s 910us/step - loss: 0.3379 - acc: 0.8286\n",
      "Epoch 10/100\n",
      "35/35 [==============================] - 0s 777us/step - loss: 0.2062 - acc: 0.9143\n",
      "Epoch 11/100\n",
      "35/35 [==============================] - 0s 762us/step - loss: 0.2943 - acc: 0.8571\n",
      "Epoch 12/100\n",
      "35/35 [==============================] - 0s 697us/step - loss: 0.2148 - acc: 0.9143\n",
      "Epoch 13/100\n",
      "35/35 [==============================] - 0s 817us/step - loss: 0.2048 - acc: 0.8857\n",
      "Epoch 14/100\n",
      "35/35 [==============================] - 0s 912us/step - loss: 0.1844 - acc: 0.9143\n",
      "Epoch 15/100\n",
      "35/35 [==============================] - 0s 1ms/step - loss: 0.1662 - acc: 0.9429\n",
      "Epoch 16/100\n",
      "35/35 [==============================] - 0s 1ms/step - loss: 0.2233 - acc: 0.8857\n",
      "Epoch 17/100\n",
      "35/35 [==============================] - 0s 988us/step - loss: 0.2745 - acc: 0.8571\n",
      "Epoch 18/100\n",
      "35/35 [==============================] - 0s 1ms/step - loss: 0.2139 - acc: 0.8857\n",
      "Epoch 19/100\n",
      "35/35 [==============================] - 0s 914us/step - loss: 0.1753 - acc: 0.9143\n",
      "Epoch 20/100\n",
      "35/35 [==============================] - 0s 1ms/step - loss: 0.0982 - acc: 0.9714\n",
      "Epoch 21/100\n",
      "35/35 [==============================] - 0s 1ms/step - loss: 0.1040 - acc: 0.9714\n",
      "Epoch 22/100\n",
      "35/35 [==============================] - 0s 1ms/step - loss: 0.1576 - acc: 0.9429\n",
      "Epoch 23/100\n",
      "35/35 [==============================] - 0s 1ms/step - loss: 0.1284 - acc: 0.9429\n",
      "Epoch 24/100\n",
      "35/35 [==============================] - 0s 1ms/step - loss: 0.1030 - acc: 0.9714\n",
      "Epoch 25/100\n",
      "35/35 [==============================] - 0s 1ms/step - loss: 0.0752 - acc: 1.0000\n",
      "Epoch 26/100\n",
      "35/35 [==============================] - 0s 997us/step - loss: 0.0737 - acc: 1.0000\n",
      "Epoch 27/100\n",
      "35/35 [==============================] - 0s 1ms/step - loss: 0.0616 - acc: 0.9714\n",
      "Epoch 28/100\n",
      "35/35 [==============================] - 0s 926us/step - loss: 0.0482 - acc: 1.0000\n",
      "Epoch 29/100\n",
      "35/35 [==============================] - 0s 980us/step - loss: 0.0440 - acc: 1.0000\n",
      "Epoch 30/100\n",
      "35/35 [==============================] - 0s 1ms/step - loss: 0.0517 - acc: 1.0000\n",
      "Epoch 31/100\n",
      "35/35 [==============================] - 0s 1ms/step - loss: 0.2305 - acc: 0.9143\n",
      "Epoch 32/100\n",
      "35/35 [==============================] - 0s 1ms/step - loss: 0.1713 - acc: 0.9143\n",
      "Epoch 33/100\n",
      "35/35 [==============================] - 0s 1ms/step - loss: 0.1295 - acc: 0.9429\n",
      "Epoch 34/100\n",
      "35/35 [==============================] - 0s 1ms/step - loss: 0.0328 - acc: 1.0000\n",
      "Epoch 35/100\n",
      "35/35 [==============================] - 0s 2ms/step - loss: 0.0311 - acc: 1.0000\n",
      "Epoch 36/100\n",
      "35/35 [==============================] - 0s 2ms/step - loss: 0.0277 - acc: 1.0000\n",
      "Epoch 37/100\n",
      "35/35 [==============================] - 0s 2ms/step - loss: 0.0273 - acc: 1.0000\n",
      "Epoch 38/100\n",
      "35/35 [==============================] - 0s 2ms/step - loss: 0.0615 - acc: 1.0000\n",
      "Epoch 39/100\n",
      "35/35 [==============================] - 0s 1ms/step - loss: 0.0606 - acc: 0.9714\n",
      "Epoch 40/100\n",
      "35/35 [==============================] - 0s 1ms/step - loss: 0.0411 - acc: 1.0000\n",
      "Epoch 41/100\n",
      "35/35 [==============================] - 0s 893us/step - loss: 0.0460 - acc: 0.9714\n",
      "Epoch 42/100\n",
      "35/35 [==============================] - 0s 1ms/step - loss: 0.3127 - acc: 0.8857\n",
      "Epoch 43/100\n",
      "35/35 [==============================] - 0s 1ms/step - loss: 0.0869 - acc: 0.9714\n",
      "Epoch 44/100\n",
      "35/35 [==============================] - 0s 980us/step - loss: 0.0537 - acc: 1.0000\n",
      "Epoch 45/100\n",
      "35/35 [==============================] - 0s 1ms/step - loss: 0.0242 - acc: 1.0000\n",
      "Epoch 46/100\n",
      "35/35 [==============================] - 0s 877us/step - loss: 0.0371 - acc: 1.0000\n",
      "Epoch 47/100\n",
      "35/35 [==============================] - 0s 996us/step - loss: 0.0637 - acc: 0.9714\n",
      "Epoch 48/100\n",
      "35/35 [==============================] - 0s 1ms/step - loss: 0.0283 - acc: 1.0000\n",
      "Epoch 49/100\n",
      "35/35 [==============================] - 0s 1ms/step - loss: 0.0599 - acc: 0.9714\n",
      "Epoch 50/100\n",
      "35/35 [==============================] - 0s 1ms/step - loss: 0.0345 - acc: 1.0000\n",
      "Epoch 51/100\n",
      "35/35 [==============================] - 0s 1ms/step - loss: 0.1525 - acc: 0.9429\n",
      "Epoch 52/100\n",
      "35/35 [==============================] - 0s 1ms/step - loss: 0.0293 - acc: 1.0000\n",
      "Epoch 53/100\n",
      "35/35 [==============================] - 0s 1ms/step - loss: 0.0313 - acc: 1.0000\n",
      "Epoch 54/100\n",
      "35/35 [==============================] - 0s 1ms/step - loss: 0.0486 - acc: 0.9714\n",
      "Epoch 55/100\n",
      "35/35 [==============================] - 0s 1ms/step - loss: 0.1537 - acc: 0.9429\n",
      "Epoch 56/100\n",
      "35/35 [==============================] - 0s 1ms/step - loss: 0.1154 - acc: 0.9429\n",
      "Epoch 57/100\n",
      "35/35 [==============================] - 0s 1ms/step - loss: 0.1314 - acc: 0.9429\n",
      "Epoch 58/100\n",
      "35/35 [==============================] - 0s 976us/step - loss: 0.0209 - acc: 1.0000\n",
      "Epoch 59/100\n",
      "35/35 [==============================] - 0s 1ms/step - loss: 0.0168 - acc: 1.0000\n",
      "Epoch 60/100\n",
      "35/35 [==============================] - 0s 947us/step - loss: 0.0107 - acc: 1.0000\n",
      "Epoch 61/100\n",
      "35/35 [==============================] - 0s 858us/step - loss: 0.0100 - acc: 1.0000\n",
      "Epoch 62/100\n",
      "35/35 [==============================] - 0s 1ms/step - loss: 0.0092 - acc: 1.0000\n",
      "Epoch 63/100\n",
      "35/35 [==============================] - 0s 878us/step - loss: 0.0087 - acc: 1.0000\n",
      "Epoch 64/100\n",
      "35/35 [==============================] - 0s 1ms/step - loss: 0.0074 - acc: 1.0000\n",
      "Epoch 65/100\n",
      "35/35 [==============================] - 0s 1ms/step - loss: 0.0072 - acc: 1.0000\n",
      "Epoch 66/100\n",
      "35/35 [==============================] - 0s 1ms/step - loss: 0.0072 - acc: 1.0000\n",
      "Epoch 67/100\n",
      "35/35 [==============================] - 0s 1ms/step - loss: 0.0070 - acc: 1.0000\n",
      "Epoch 68/100\n",
      "35/35 [==============================] - 0s 1ms/step - loss: 0.0072 - acc: 1.0000\n",
      "Epoch 69/100\n",
      "35/35 [==============================] - 0s 1ms/step - loss: 0.0075 - acc: 1.0000\n",
      "Epoch 70/100\n",
      "35/35 [==============================] - 0s 1ms/step - loss: 0.0055 - acc: 1.0000\n",
      "Epoch 71/100\n",
      "35/35 [==============================] - 0s 946us/step - loss: 0.0049 - acc: 1.0000\n",
      "Epoch 72/100\n",
      "35/35 [==============================] - 0s 1ms/step - loss: 0.0048 - acc: 1.0000\n",
      "Epoch 73/100\n",
      "35/35 [==============================] - 0s 1ms/step - loss: 0.0050 - acc: 1.0000\n",
      "Epoch 74/100\n",
      "35/35 [==============================] - 0s 856us/step - loss: 0.0046 - acc: 1.0000\n",
      "Epoch 75/100\n",
      "35/35 [==============================] - 0s 622us/step - loss: 0.0042 - acc: 1.0000\n",
      "Epoch 76/100\n",
      "35/35 [==============================] - 0s 619us/step - loss: 0.0043 - acc: 1.0000\n",
      "Epoch 77/100\n",
      "35/35 [==============================] - 0s 603us/step - loss: 0.0041 - acc: 1.0000\n",
      "Epoch 78/100\n",
      "35/35 [==============================] - 0s 610us/step - loss: 0.0041 - acc: 1.0000\n",
      "Epoch 79/100\n",
      "35/35 [==============================] - 0s 605us/step - loss: 0.0036 - acc: 1.0000\n",
      "Epoch 80/100\n",
      "35/35 [==============================] - 0s 592us/step - loss: 0.0036 - acc: 1.0000\n",
      "Epoch 81/100\n",
      "35/35 [==============================] - 0s 598us/step - loss: 0.0035 - acc: 1.0000\n",
      "Epoch 82/100\n",
      "35/35 [==============================] - 0s 613us/step - loss: 0.0036 - acc: 1.0000\n",
      "Epoch 83/100\n",
      "35/35 [==============================] - 0s 606us/step - loss: 0.0037 - acc: 1.0000\n",
      "Epoch 84/100\n",
      "35/35 [==============================] - 0s 592us/step - loss: 0.0034 - acc: 1.0000\n",
      "Epoch 85/100\n",
      "35/35 [==============================] - 0s 594us/step - loss: 0.0030 - acc: 1.0000\n",
      "Epoch 86/100\n",
      "35/35 [==============================] - 0s 624us/step - loss: 0.0031 - acc: 1.0000\n",
      "Epoch 87/100\n",
      "35/35 [==============================] - 0s 593us/step - loss: 0.0031 - acc: 1.0000\n",
      "Epoch 88/100\n",
      "35/35 [==============================] - 0s 659us/step - loss: 0.0031 - acc: 1.0000\n",
      "Epoch 89/100\n",
      "35/35 [==============================] - 0s 608us/step - loss: 0.0027 - acc: 1.0000\n",
      "Epoch 90/100\n",
      "35/35 [==============================] - 0s 604us/step - loss: 0.0027 - acc: 1.0000\n",
      "Epoch 91/100\n",
      "35/35 [==============================] - 0s 629us/step - loss: 0.0027 - acc: 1.0000\n",
      "Epoch 92/100\n",
      "35/35 [==============================] - 0s 743us/step - loss: 0.0028 - acc: 1.0000\n",
      "Epoch 93/100\n",
      "35/35 [==============================] - 0s 907us/step - loss: 0.0025 - acc: 1.0000\n",
      "Epoch 94/100\n",
      "35/35 [==============================] - 0s 672us/step - loss: 0.0025 - acc: 1.0000\n",
      "Epoch 95/100\n",
      "35/35 [==============================] - 0s 651us/step - loss: 0.0024 - acc: 1.0000\n",
      "Epoch 96/100\n",
      "35/35 [==============================] - 0s 652us/step - loss: 0.0024 - acc: 1.0000\n",
      "Epoch 97/100\n",
      "35/35 [==============================] - 0s 676us/step - loss: 0.0023 - acc: 1.0000\n",
      "Epoch 98/100\n",
      "35/35 [==============================] - 0s 698us/step - loss: 0.0023 - acc: 1.0000\n",
      "Epoch 99/100\n",
      "35/35 [==============================] - 0s 597us/step - loss: 0.0022 - acc: 1.0000\n",
      "Epoch 100/100\n",
      "35/35 [==============================] - 0s 679us/step - loss: 0.0023 - acc: 1.0000\n"
     ]
    }
   ],
   "source": [
    "history2 = net2.fit(X, y_binary, epochs=100, batch_size=1, shuffle=True)"
   ]
  },
  {
   "cell_type": "code",
   "execution_count": 15,
   "metadata": {},
   "outputs": [],
   "source": [
    "grid_prediction = np.argmax(net2.predict(xxyy), axis=1)\n",
    "grid_prediction.shape = (steps, steps)"
   ]
  },
  {
   "cell_type": "code",
   "execution_count": 28,
   "metadata": {},
   "outputs": [
    {
     "data": {
      "image/png": "[encoded data removed]",
      "text/plain": [
       "<Figure size 504x504 with 1 Axes>"
      ]
     },
     "metadata": {
      "needs_background": "light"
     },
     "output_type": "display_data"
    }
   ],
   "source": [
    "plt.figure(figsize=(7,7))\n",
    "plt.contourf(xx, yy, grid_prediction, cmap='Set2')\n",
    "plt.scatter(x1[:,0], x1[:,1], marker='+')\n",
    "plt.scatter(x2[:,0], x2[:,1], marker='o')\n",
    "plt.title('Superficie de desicion')\n",
    "plt.show()"
   ]
  },
  {
   "cell_type": "code",
   "execution_count": 17,
   "metadata": {},
   "outputs": [
    {
     "data": {
      "image/png": "[encoded data removed]",
      "text/plain": [
       "<Figure size 864x432 with 2 Axes>"
      ]
     },
     "metadata": {
      "needs_background": "light"
     },
     "output_type": "display_data"
    }
   ],
   "source": [
    "plt.figure(figsize=(12, 6)).suptitle('Método de momento')\n",
    "plt.subplot(121)\n",
    "plt.plot(history2.epoch, history2.history['loss'])\n",
    "plt.title('Loss')\n",
    "plt.xlabel('Epochs')\n",
    "plt.ylabel('CCE')\n",
    "plt.subplot(122)\n",
    "plt.plot(history2.epoch, history2.history['acc'])\n",
    "plt.title('Accuracy')\n",
    "plt.xlabel('epochs')\n",
    "plt.ylabel('accuracy')\n",
    "plt.show()"
   ]
  },
  {
   "cell_type": "markdown",
   "metadata": {},
   "source": [
    "### Método de Levenberg-Marquardt\n",
    "\n",
    "El algoritmo de Levenberg-Marquardt puede ser visto como una regularización del método de Gauss-Newton, donde un párametro de regularización es actualizado en cada iteración, controlando indirectamente el tamaño del paso, haciendo asi que converga globalmente independientemente del punto de inicio.\n",
    "\n",
    "$$\\nabla w_{t+1} = -(H+\\lambda diag[H])^{-1} \\nabla E(w_t)$$\n",
    "\n",
    "$$H(x) = \\nabla^2f(x) = J(x)^TJ(x)$$\n",
    "\n",
    "El parámetro $\\lambda$ se actualiza tomando en cuenta el siguiente criterio:\n",
    "\n",
    "1. Actualizar pesos\n",
    "2. Calcular el error (MSE)\n",
    "3. Si el error es menor al anterior, aceptar el paso y decrementar $\\lambda$ en un factor $\\mu$\n",
    "4. 3. Si el error es mayor que el anterior, rechazar el paso e incrementar $\\lambda$ en un factor $\\mu$"
   ]
  },
  {
   "cell_type": "code",
   "execution_count": 18,
   "metadata": {},
   "outputs": [],
   "source": [
    "net3 = algorithms.LevenbergMarquardt(\n",
    "    [\n",
    "        layers.Input(2),\n",
    "        layers.Tanh(30),\n",
    "        layers.Relu(30),\n",
    "        layers.Softmax(2)\n",
    "    ],\n",
    "    mu = 0.1, \n",
    "    mu_update_factor = 1.2,\n",
    "    error = 'mse',\n",
    "    shuffle_data = True,\n",
    ")"
   ]
  },
  {
   "cell_type": "code",
   "execution_count": 19,
   "metadata": {},
   "outputs": [],
   "source": [
    "net3.train(X, y_binary, epochs=50)"
   ]
  },
  {
   "cell_type": "code",
   "execution_count": 20,
   "metadata": {},
   "outputs": [
    {
     "data": {
      "image/png": "[encoded data removed]",
      "text/plain": [
       "<Figure size 432x288 with 1 Axes>"
      ]
     },
     "metadata": {
      "needs_background": "light"
     },
     "output_type": "display_data"
    }
   ],
   "source": [
    "_ = plots.error_plot(net3)"
   ]
  },
  {
   "cell_type": "code",
   "execution_count": 21,
   "metadata": {},
   "outputs": [],
   "source": [
    "grid_prediction3 = np.argmax(net3.predict(xxyy), axis=1)\n",
    "grid_prediction3.shape = (steps, steps)"
   ]
  },
  {
   "cell_type": "code",
   "execution_count": 29,
   "metadata": {},
   "outputs": [
    {
     "data": {
      "image/png": "[encoded data removed]",
      "text/plain": [
       "<Figure size 504x504 with 1 Axes>"
      ]
     },
     "metadata": {
      "needs_background": "light"
     },
     "output_type": "display_data"
    }
   ],
   "source": [
    "plt.figure(figsize=(7,7))\n",
    "plt.contourf(xx, yy, grid_prediction3, cmap='Set2')\n",
    "plt.scatter(x1[:,0], x1[:,1], marker='+')\n",
    "plt.scatter(x2[:,0], x2[:,1], marker='o')\n",
    "plt.title('Superficie de desicion')\n",
    "plt.show()"
   ]
  },
  {
   "cell_type": "markdown",
   "metadata": {},
   "source": [
    "### Referencias\n",
    "\n",
    "1. Qian, Ning, On the momentum term in gradient descent learning algorithms: [http://citeseerx.ist.psu.edu/viewdoc/download?doi=10.1.1.57.5612&rep=rep1&type=pdf ]\n",
    "2. Ranganatha, Ananth, The Levenberg-Marquardt algorithm: [http://citeseerx.ist.psu.edu/viewdoc/download?doi=10.1.1.10.2258&rep=rep1&type=pdf ]\n",
    "3. Ruder, Sebastian, An overview of gradient descent optimizartion algorithms: [https://arxiv.org/pdf/1609.04747.pdf ]\n",
    "4. Weight inicialization: [https://medium.com/usf-msds/deep-learning-best-practices-1-weight-initialization-14e5c0295b94 ]\n",
    "5. Momentum: https://www.youtube.com/watch?v=k8fTYJPd3_I"
   ]
  }
 ],
 "metadata": {
  "kernelspec": {
   "display_name": "py36",
   "language": "python",
   "name": "py36"
  },
  "language_info": {
   "codemirror_mode": {
    "name": "ipython",
    "version": 3
   },
   "file_extension": ".py",
   "mimetype": "text/x-python",
   "name": "python",
   "nbconvert_exporter": "python",
   "pygments_lexer": "ipython3",
   "version": "3.6.6"
  }
 },
 "nbformat": 4,
 "nbformat_minor": 2
}
