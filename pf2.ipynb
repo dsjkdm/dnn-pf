{
 "cells": [
  {
   "cell_type": "markdown",
   "metadata": {},
   "source": [
    "# Introducción a las redes neuronales profundas\n",
    "# Proyecto 2 \n",
    "\n",
    "Clasificar los vectores x1 y x2 usando backpropagation en una red neuronal shallow, para ello usar los siguientes métodos:\n",
    "\n",
    "1. Usando SDBP\n",
    "2. Método de momento\n",
    "3. Método de Levenberg-Marquardt"
   ]
  },
  {
   "cell_type": "code",
   "execution_count": 1,
   "metadata": {},
   "outputs": [
    {
     "name": "stderr",
     "output_type": "stream",
     "text": [
      "Using TensorFlow backend.\n"
     ]
    }
   ],
   "source": [
    "import keras\n",
    "import numpy as np\n",
    "import matplotlib.pyplot as plt\n",
    "from keras.layers import Dense\n",
    "from keras.optimizers import SGD\n",
    "from keras.models import Sequential\n",
    "from keras.utils import to_categorical\n",
    "from neupy import algorithms, layers\n",
    "from neupy import plots\n",
    "%matplotlib inline"
   ]
  },
  {
   "cell_type": "code",
   "execution_count": 2,
   "metadata": {},
   "outputs": [],
   "source": [
    "x1 = np.array([[-4,-3],[-4,-1],[-3,-3],[-3,-1],[-3,0],[-2,-2],[0,-1],[1,-1],[1,0],[1,2],\n",
    "               [2,-1],[2,1],[2,2],[2,3],[2,4],[3,-4],[3,-3],[3,-2],[3,-1],[4,-1]])\n",
    "\n",
    "x2 = np.array([[-1,-4],[-1,-3],[-1,2],[-1,3],[-1,4],[0,-4],[0,-3],[0,2],[1,-5],[1,-4],\n",
    "               [1,4],[3,2],[3,3],[4,1],[4,2]])"
   ]
  },
  {
   "cell_type": "code",
   "execution_count": 3,
   "metadata": {},
   "outputs": [
    {
     "data": {
      "image/png": "[encoded data removed]",
      "text/plain": [
       "<Figure size 432x288 with 1 Axes>"
      ]
     },
     "metadata": {
      "needs_background": "light"
     },
     "output_type": "display_data"
    }
   ],
   "source": [
    "plt.scatter(x1[:,0], x1[:,1], marker='+')\n",
    "plt.scatter(x2[:,0], x2[:,1], marker='o')\n",
    "plt.title('Vectores a ser clasificados')\n",
    "plt.grid(True)\n",
    "plt.show()"
   ]
  },
  {
   "cell_type": "code",
   "execution_count": 4,
   "metadata": {},
   "outputs": [],
   "source": [
    "X = np.concatenate((x1, x2))\n",
    "y = np.concatenate((np.ones(20), np.zeros(15)))\n",
    "y_binary = to_categorical(y)"
   ]
  },
  {
   "cell_type": "markdown",
   "metadata": {},
   "source": [
    "### Método SDBP\n",
    "\n",
    "En el método de la retropropagación, el error de la capa de salida se propaga hacia atras hasta llegar a la última capa, para actualizar los pesos y los sesgos, reduciendo asi el error.\n",
    "\n",
    "La actualización de los pesos se realiza en la direccion opuesta al máximo incremento, usando el gradiente descendiente de la función de error con respecto a los parametros.\n",
    "\n",
    "La actualización de los parámetros de la red neuronal se realizan de la siguiente manera:\n",
    "\n",
    "$$w_{t+1} = w_t - \\nabla w_t$$\n",
    "$$b_{t+1} = b_t - \\nabla w_t $$\n",
    "\n",
    "$$\\nabla w_t = -\\epsilon \\nabla_w E(w_t)$$\n",
    "\n"
   ]
  },
  {
   "cell_type": "code",
   "execution_count": 5,
   "metadata": {},
   "outputs": [],
   "source": [
    "net1 = Sequential()\n",
    "net1.add(Dense(30, activation='tanh', input_shape=(2,)))\n",
    "net1.add(Dense(30, activation='relu'))\n",
    "net1.add(Dense(2, activation='softmax'))"
   ]
  },
  {
   "cell_type": "code",
   "execution_count": 6,
   "metadata": {},
   "outputs": [],
   "source": [
    "net1.compile(optimizer=SGD(lr=0.005), \n",
    "             loss='categorical_crossentropy', \n",
    "             metrics=['accuracy'])"
   ]
  },
  {
   "cell_type": "code",
   "execution_count": 7,
   "metadata": {},
   "outputs": [
    {
     "name": "stdout",
     "output_type": "stream",
     "text": [
      "_________________________________________________________________\n",
      "Layer (type)                 Output Shape              Param #   \n",
      "=================================================================\n",
      "dense_1 (Dense)              (None, 30)                90        \n",
      "_________________________________________________________________\n",
      "dense_2 (Dense)              (None, 30)                930       \n",
      "_________________________________________________________________\n",
      "dense_3 (Dense)              (None, 2)                 62        \n",
      "=================================================================\n",
      "Total params: 1,082\n",
      "Trainable params: 1,082\n",
      "Non-trainable params: 0\n",
      "_________________________________________________________________\n"
     ]
    }
   ],
   "source": [
    "net1.summary()"
   ]
  },
  {
   "cell_type": "code",
   "execution_count": 8,
   "metadata": {},
   "outputs": [
    {
     "name": "stdout",
     "output_type": "stream",
     "text": [
      "Epoch 1/100\n",
      "35/35 [==============================] - 0s 7ms/step - loss: 0.7210 - acc: 0.4857\n",
      "Epoch 2/100\n",
      "35/35 [==============================] - 0s 1ms/step - loss: 0.6455 - acc: 0.5143\n",
      "Epoch 3/100\n",
      "35/35 [==============================] - 0s 1ms/step - loss: 0.5974 - acc: 0.6286\n",
      "Epoch 4/100\n",
      "35/35 [==============================] - 0s 1ms/step - loss: 0.5671 - acc: 0.6857\n",
      "Epoch 5/100\n",
      "35/35 [==============================] - 0s 1ms/step - loss: 0.5465 - acc: 0.6857\n",
      "Epoch 6/100\n",
      "35/35 [==============================] - 0s 1ms/step - loss: 0.5310 - acc: 0.7429\n",
      "Epoch 7/100\n",
      "35/35 [==============================] - 0s 1ms/step - loss: 0.5193 - acc: 0.7714\n",
      "Epoch 8/100\n",
      "35/35 [==============================] - 0s 967us/step - loss: 0.5078 - acc: 0.7429\n",
      "Epoch 9/100\n",
      "35/35 [==============================] - 0s 1ms/step - loss: 0.4986 - acc: 0.7714\n",
      "Epoch 10/100\n",
      "35/35 [==============================] - 0s 2ms/step - loss: 0.4897 - acc: 0.8000\n",
      "Epoch 11/100\n",
      "35/35 [==============================] - 0s 2ms/step - loss: 0.4783 - acc: 0.8000\n",
      "Epoch 12/100\n",
      "35/35 [==============================] - 0s 1ms/step - loss: 0.4679 - acc: 0.8000\n",
      "Epoch 13/100\n",
      "35/35 [==============================] - 0s 1ms/step - loss: 0.4603 - acc: 0.8000\n",
      "Epoch 14/100\n",
      "35/35 [==============================] - 0s 1ms/step - loss: 0.4519 - acc: 0.7714\n",
      "Epoch 15/100\n",
      "35/35 [==============================] - 0s 1ms/step - loss: 0.4439 - acc: 0.7714\n",
      "Epoch 16/100\n",
      "35/35 [==============================] - 0s 1ms/step - loss: 0.4351 - acc: 0.8000\n",
      "Epoch 17/100\n",
      "35/35 [==============================] - 0s 1ms/step - loss: 0.4276 - acc: 0.7714\n",
      "Epoch 18/100\n",
      "35/35 [==============================] - 0s 801us/step - loss: 0.4198 - acc: 0.7714\n",
      "Epoch 19/100\n",
      "35/35 [==============================] - 0s 1ms/step - loss: 0.4134 - acc: 0.7714\n",
      "Epoch 20/100\n",
      "35/35 [==============================] - 0s 1ms/step - loss: 0.4067 - acc: 0.8000\n",
      "Epoch 21/100\n",
      "35/35 [==============================] - 0s 920us/step - loss: 0.3998 - acc: 0.7714\n",
      "Epoch 22/100\n",
      "35/35 [==============================] - 0s 875us/step - loss: 0.3898 - acc: 0.8000\n",
      "Epoch 23/100\n",
      "35/35 [==============================] - 0s 1ms/step - loss: 0.3855 - acc: 0.8000\n",
      "Epoch 24/100\n",
      "35/35 [==============================] - 0s 1ms/step - loss: 0.3786 - acc: 0.8000\n",
      "Epoch 25/100\n",
      "35/35 [==============================] - 0s 1ms/step - loss: 0.3706 - acc: 0.8000\n",
      "Epoch 26/100\n",
      "35/35 [==============================] - 0s 2ms/step - loss: 0.3657 - acc: 0.8000\n",
      "Epoch 27/100\n",
      "35/35 [==============================] - 0s 2ms/step - loss: 0.3583 - acc: 0.8000\n",
      "Epoch 28/100\n",
      "35/35 [==============================] - 0s 2ms/step - loss: 0.3538 - acc: 0.8000\n",
      "Epoch 29/100\n",
      "35/35 [==============================] - 0s 1ms/step - loss: 0.3475 - acc: 0.7714\n",
      "Epoch 30/100\n",
      "35/35 [==============================] - 0s 1ms/step - loss: 0.3416 - acc: 0.8286\n",
      "Epoch 31/100\n",
      "35/35 [==============================] - 0s 1ms/step - loss: 0.3353 - acc: 0.8286\n",
      "Epoch 32/100\n",
      "35/35 [==============================] - 0s 1ms/step - loss: 0.3301 - acc: 0.8000\n",
      "Epoch 33/100\n",
      "35/35 [==============================] - 0s 995us/step - loss: 0.3230 - acc: 0.8286\n",
      "Epoch 34/100\n",
      "35/35 [==============================] - 0s 1ms/step - loss: 0.3182 - acc: 0.8571\n",
      "Epoch 35/100\n",
      "35/35 [==============================] - 0s 1ms/step - loss: 0.3119 - acc: 0.8286\n",
      "Epoch 36/100\n",
      "35/35 [==============================] - 0s 1ms/step - loss: 0.3071 - acc: 0.8571\n",
      "Epoch 37/100\n",
      "35/35 [==============================] - 0s 1ms/step - loss: 0.3026 - acc: 0.8857\n",
      "Epoch 38/100\n",
      "35/35 [==============================] - 0s 1ms/step - loss: 0.2976 - acc: 0.8857\n",
      "Epoch 39/100\n",
      "35/35 [==============================] - 0s 2ms/step - loss: 0.2923 - acc: 0.9143\n",
      "Epoch 40/100\n",
      "35/35 [==============================] - 0s 1ms/step - loss: 0.2861 - acc: 0.8857\n",
      "Epoch 41/100\n",
      "35/35 [==============================] - 0s 1ms/step - loss: 0.2824 - acc: 0.9143\n",
      "Epoch 42/100\n",
      "35/35 [==============================] - 0s 1ms/step - loss: 0.2775 - acc: 0.8857\n",
      "Epoch 43/100\n",
      "35/35 [==============================] - 0s 745us/step - loss: 0.2721 - acc: 0.8857\n",
      "Epoch 44/100\n",
      "35/35 [==============================] - 0s 1ms/step - loss: 0.2688 - acc: 0.9429\n",
      "Epoch 45/100\n",
      "35/35 [==============================] - 0s 1ms/step - loss: 0.2624 - acc: 0.9429\n",
      "Epoch 46/100\n",
      "35/35 [==============================] - 0s 1ms/step - loss: 0.2594 - acc: 0.9429\n",
      "Epoch 47/100\n",
      "35/35 [==============================] - 0s 874us/step - loss: 0.2520 - acc: 0.9714\n",
      "Epoch 48/100\n",
      "35/35 [==============================] - 0s 870us/step - loss: 0.2523 - acc: 0.9143\n",
      "Epoch 49/100\n",
      "35/35 [==============================] - 0s 1ms/step - loss: 0.2436 - acc: 0.9429\n",
      "Epoch 50/100\n",
      "35/35 [==============================] - 0s 1ms/step - loss: 0.2441 - acc: 1.0000\n",
      "Epoch 51/100\n",
      "35/35 [==============================] - 0s 950us/step - loss: 0.2394 - acc: 0.9429\n",
      "Epoch 52/100\n",
      "35/35 [==============================] - 0s 1ms/step - loss: 0.2336 - acc: 0.9714\n",
      "Epoch 53/100\n",
      "35/35 [==============================] - 0s 1ms/step - loss: 0.2303 - acc: 0.9714\n",
      "Epoch 54/100\n",
      "35/35 [==============================] - 0s 834us/step - loss: 0.2239 - acc: 0.9429\n",
      "Epoch 55/100\n",
      "35/35 [==============================] - 0s 1ms/step - loss: 0.2238 - acc: 1.0000\n",
      "Epoch 56/100\n",
      "35/35 [==============================] - 0s 848us/step - loss: 0.2198 - acc: 1.0000\n",
      "Epoch 57/100\n",
      "35/35 [==============================] - 0s 1ms/step - loss: 0.2166 - acc: 1.0000\n",
      "Epoch 58/100\n",
      "35/35 [==============================] - 0s 1ms/step - loss: 0.2101 - acc: 0.9714\n",
      "Epoch 59/100\n",
      "35/35 [==============================] - 0s 1ms/step - loss: 0.2067 - acc: 1.0000\n",
      "Epoch 60/100\n",
      "35/35 [==============================] - 0s 1ms/step - loss: 0.2072 - acc: 0.9714\n",
      "Epoch 61/100\n",
      "35/35 [==============================] - 0s 982us/step - loss: 0.2018 - acc: 0.9714\n",
      "Epoch 62/100\n",
      "35/35 [==============================] - 0s 1ms/step - loss: 0.1988 - acc: 1.0000\n",
      "Epoch 63/100\n",
      "35/35 [==============================] - 0s 2ms/step - loss: 0.1958 - acc: 1.0000\n",
      "Epoch 64/100\n",
      "35/35 [==============================] - 0s 2ms/step - loss: 0.1899 - acc: 1.0000\n",
      "Epoch 65/100\n",
      "35/35 [==============================] - 0s 2ms/step - loss: 0.1841 - acc: 0.9714\n",
      "Epoch 66/100\n",
      "35/35 [==============================] - 0s 1ms/step - loss: 0.1843 - acc: 0.9714\n",
      "Epoch 67/100\n",
      "35/35 [==============================] - 0s 1ms/step - loss: 0.1849 - acc: 1.0000\n",
      "Epoch 68/100\n",
      "35/35 [==============================] - 0s 993us/step - loss: 0.1803 - acc: 1.0000\n",
      "Epoch 69/100\n",
      "35/35 [==============================] - 0s 1ms/step - loss: 0.1773 - acc: 1.0000\n",
      "Epoch 70/100\n",
      "35/35 [==============================] - 0s 1ms/step - loss: 0.1735 - acc: 0.9714\n",
      "Epoch 71/100\n",
      "35/35 [==============================] - 0s 1ms/step - loss: 0.1675 - acc: 0.9714\n",
      "Epoch 72/100\n",
      "35/35 [==============================] - 0s 784us/step - loss: 0.1691 - acc: 1.0000\n",
      "Epoch 73/100\n",
      "35/35 [==============================] - 0s 1ms/step - loss: 0.1649 - acc: 1.0000\n",
      "Epoch 74/100\n",
      "35/35 [==============================] - 0s 989us/step - loss: 0.1589 - acc: 0.9714\n",
      "Epoch 75/100\n",
      "35/35 [==============================] - 0s 973us/step - loss: 0.1610 - acc: 0.9714\n",
      "Epoch 76/100\n",
      "35/35 [==============================] - 0s 942us/step - loss: 0.1583 - acc: 1.0000\n",
      "Epoch 77/100\n",
      "35/35 [==============================] - 0s 1ms/step - loss: 0.1550 - acc: 1.0000\n",
      "Epoch 78/100\n",
      "35/35 [==============================] - 0s 1ms/step - loss: 0.1519 - acc: 1.0000\n",
      "Epoch 79/100\n",
      "35/35 [==============================] - 0s 1ms/step - loss: 0.1485 - acc: 1.0000\n",
      "Epoch 80/100\n",
      "35/35 [==============================] - 0s 1ms/step - loss: 0.1488 - acc: 1.0000\n",
      "Epoch 81/100\n",
      "35/35 [==============================] - 0s 1ms/step - loss: 0.1464 - acc: 1.0000\n",
      "Epoch 82/100\n",
      "35/35 [==============================] - 0s 888us/step - loss: 0.1442 - acc: 1.0000\n",
      "Epoch 83/100\n",
      "35/35 [==============================] - 0s 1ms/step - loss: 0.1420 - acc: 1.0000\n",
      "Epoch 84/100\n",
      "35/35 [==============================] - 0s 811us/step - loss: 0.1389 - acc: 1.0000\n",
      "Epoch 85/100\n",
      "35/35 [==============================] - 0s 1ms/step - loss: 0.1373 - acc: 1.0000\n",
      "Epoch 86/100\n",
      "35/35 [==============================] - 0s 920us/step - loss: 0.1338 - acc: 1.0000\n",
      "Epoch 87/100\n",
      "35/35 [==============================] - 0s 1ms/step - loss: 0.1342 - acc: 1.0000\n",
      "Epoch 88/100\n",
      "35/35 [==============================] - 0s 1ms/step - loss: 0.1301 - acc: 1.0000\n",
      "Epoch 89/100\n",
      "35/35 [==============================] - 0s 1ms/step - loss: 0.1301 - acc: 1.0000\n",
      "Epoch 90/100\n",
      "35/35 [==============================] - 0s 1000us/step - loss: 0.1270 - acc: 1.0000\n",
      "Epoch 91/100\n",
      "35/35 [==============================] - 0s 1ms/step - loss: 0.1253 - acc: 1.0000\n",
      "Epoch 92/100\n",
      "35/35 [==============================] - 0s 2ms/step - loss: 0.1221 - acc: 1.0000\n",
      "Epoch 93/100\n",
      "35/35 [==============================] - 0s 3ms/step - loss: 0.1218 - acc: 1.0000\n",
      "Epoch 94/100\n",
      "35/35 [==============================] - 0s 2ms/step - loss: 0.1179 - acc: 1.0000\n",
      "Epoch 95/100\n",
      "35/35 [==============================] - 0s 1ms/step - loss: 0.1168 - acc: 1.0000\n",
      "Epoch 96/100\n",
      "35/35 [==============================] - 0s 2ms/step - loss: 0.1144 - acc: 1.0000\n",
      "Epoch 97/100\n",
      "35/35 [==============================] - 0s 1ms/step - loss: 0.1140 - acc: 1.0000\n",
      "Epoch 98/100\n",
      "35/35 [==============================] - 0s 1ms/step - loss: 0.1131 - acc: 1.0000\n",
      "Epoch 99/100\n",
      "35/35 [==============================] - 0s 1ms/step - loss: 0.1116 - acc: 1.0000\n",
      "Epoch 100/100\n",
      "35/35 [==============================] - 0s 1ms/step - loss: 0.1102 - acc: 1.0000\n"
     ]
    }
   ],
   "source": [
    "history1 = net1.fit(X, y_binary, epochs=100, batch_size=1)"
   ]
  },
  {
   "cell_type": "code",
   "execution_count": 9,
   "metadata": {},
   "outputs": [
    {
     "data": {
      "image/png": "[encoded data removed]",
      "text/plain": [
       "<Figure size 864x432 with 2 Axes>"
      ]
     },
     "metadata": {
      "needs_background": "light"
     },
     "output_type": "display_data"
    }
   ],
   "source": [
    "plt.figure(figsize=(12, 6)).suptitle('Método de SGD')\n",
    "plt.subplot(121)\n",
    "plt.plot(history1.epoch, history1.history['loss'])\n",
    "plt.title('Loss')\n",
    "plt.subplot(122)\n",
    "plt.plot(history1.epoch, history1.history['acc'])\n",
    "plt.title('Accuracy')\n",
    "plt.show()"
   ]
  },
  {
   "cell_type": "code",
   "execution_count": 10,
   "metadata": {},
   "outputs": [],
   "source": [
    "steps = 500\n",
    "xx, yy = np.meshgrid(np.linspace(-8, 8, steps), np.linspace(-8, 8, steps))\n",
    "\n",
    "xxyy = np.hstack((xx.reshape(steps*steps, 1), yy.reshape(steps*steps, 1)))\n",
    "grid_prediction = np.argmax(net1.predict(xxyy), axis=1)\n",
    "grid_prediction.shape = (steps, steps)"
   ]
  },
  {
   "cell_type": "code",
   "execution_count": 11,
   "metadata": {},
   "outputs": [
    {
     "data": {
      "image/png": "[encoded data removed]",
      "text/plain": [
       "<Figure size 504x504 with 1 Axes>"
      ]
     },
     "metadata": {
      "needs_background": "light"
     },
     "output_type": "display_data"
    }
   ],
   "source": [
    "plt.figure(figsize=(7,7))\n",
    "plt.contourf(xx, yy, grid_prediction, cmap='Set2')\n",
    "plt.scatter(x1[:,0], x1[:,1], marker='+')\n",
    "plt.scatter(x2[:,0], x2[:,1], marker='o')\n",
    "plt.title('Superficie de desicion')\n",
    "plt.show()"
   ]
  },
  {
   "cell_type": "markdown",
   "metadata": {},
   "source": [
    "### Método de momento\n",
    "\n",
    "El parámetro del momento en las ecuaciones de la retropopagación es análogo a la masa de las particulas Newtonianas, que se mueven a traves de un medio viscoso en un campo de fuerza conservativo. El comportamiento del sistema cerca de un mínimo local es equivalente a un conjunto de osciladores armonicos amortiguados. Incluir el parámetro del momento mejora la velocidad de convergencia\n",
    "\n",
    "La siguiente ecuación indica como se actualizan los parámetros de la red:\n",
    "\n",
    "$$\\nabla w_t = -\\epsilon \\nabla_w E(w_t) + p\\nabla_{w_{t-1}} $$\n",
    "\n",
    "La modificación del vector de pesos en un instante de tiempo dado depende del gradiente de la función de error en el instante presente y del cambio del vector de pesos en el instante anterior."
   ]
  },
  {
   "cell_type": "code",
   "execution_count": 12,
   "metadata": {},
   "outputs": [],
   "source": [
    "net2 = Sequential()\n",
    "net2.add(Dense(30, activation='tanh', input_shape=(2,)))\n",
    "net2.add(Dense(30, activation='relu'))\n",
    "net2.add(Dense(2, activation='softmax'))"
   ]
  },
  {
   "cell_type": "code",
   "execution_count": 13,
   "metadata": {},
   "outputs": [],
   "source": [
    "net2.compile(optimizer=SGD(lr=0.005, momentum=0.9), \n",
    "             loss='categorical_crossentropy', \n",
    "             metrics=['accuracy'])"
   ]
  },
  {
   "cell_type": "code",
   "execution_count": 14,
   "metadata": {},
   "outputs": [
    {
     "name": "stdout",
     "output_type": "stream",
     "text": [
      "Epoch 1/100\n",
      "35/35 [==============================] - 0s 5ms/step - loss: 0.6784 - acc: 0.6286\n",
      "Epoch 2/100\n",
      "35/35 [==============================] - 0s 938us/step - loss: 0.6133 - acc: 0.8000\n",
      "Epoch 3/100\n",
      "35/35 [==============================] - 0s 1ms/step - loss: 0.5170 - acc: 0.8286\n",
      "Epoch 4/100\n",
      "35/35 [==============================] - 0s 2ms/step - loss: 0.5573 - acc: 0.8000\n",
      "Epoch 5/100\n",
      "35/35 [==============================] - 0s 1ms/step - loss: 0.4085 - acc: 0.8571\n",
      "Epoch 6/100\n",
      "35/35 [==============================] - 0s 1ms/step - loss: 0.3484 - acc: 0.8571\n",
      "Epoch 7/100\n",
      "35/35 [==============================] - 0s 1ms/step - loss: 0.3117 - acc: 0.9143\n",
      "Epoch 8/100\n",
      "35/35 [==============================] - 0s 1ms/step - loss: 0.3133 - acc: 0.8286\n",
      "Epoch 9/100\n",
      "35/35 [==============================] - 0s 1ms/step - loss: 0.3261 - acc: 0.8286\n",
      "Epoch 10/100\n",
      "35/35 [==============================] - 0s 1ms/step - loss: 0.2961 - acc: 0.7714\n",
      "Epoch 11/100\n",
      "35/35 [==============================] - 0s 988us/step - loss: 0.2302 - acc: 0.9429\n",
      "Epoch 12/100\n",
      "35/35 [==============================] - 0s 1ms/step - loss: 0.1460 - acc: 1.0000\n",
      "Epoch 13/100\n",
      "35/35 [==============================] - 0s 934us/step - loss: 0.2737 - acc: 0.8571\n",
      "Epoch 14/100\n",
      "35/35 [==============================] - 0s 890us/step - loss: 0.5237 - acc: 0.7429\n",
      "Epoch 15/100\n",
      "35/35 [==============================] - 0s 2ms/step - loss: 0.1987 - acc: 0.8857\n",
      "Epoch 16/100\n",
      "35/35 [==============================] - 0s 2ms/step - loss: 0.1891 - acc: 0.8857\n",
      "Epoch 17/100\n",
      "35/35 [==============================] - 0s 1ms/step - loss: 0.1359 - acc: 0.9714\n",
      "Epoch 18/100\n",
      "35/35 [==============================] - 0s 942us/step - loss: 0.1049 - acc: 0.9714\n",
      "Epoch 19/100\n",
      "35/35 [==============================] - 0s 866us/step - loss: 0.0877 - acc: 1.0000\n",
      "Epoch 20/100\n",
      "35/35 [==============================] - 0s 860us/step - loss: 0.0884 - acc: 1.0000\n",
      "Epoch 21/100\n",
      "35/35 [==============================] - 0s 809us/step - loss: 0.0538 - acc: 1.0000\n",
      "Epoch 22/100\n",
      "35/35 [==============================] - 0s 816us/step - loss: 0.1137 - acc: 0.9429\n",
      "Epoch 23/100\n",
      "35/35 [==============================] - 0s 795us/step - loss: 0.0598 - acc: 1.0000\n",
      "Epoch 24/100\n",
      "35/35 [==============================] - 0s 791us/step - loss: 0.1308 - acc: 0.9714\n",
      "Epoch 25/100\n",
      "35/35 [==============================] - 0s 904us/step - loss: 0.0963 - acc: 0.9714\n",
      "Epoch 26/100\n",
      "35/35 [==============================] - 0s 971us/step - loss: 0.0475 - acc: 1.0000\n",
      "Epoch 27/100\n",
      "35/35 [==============================] - 0s 2ms/step - loss: 0.0389 - acc: 1.0000\n",
      "Epoch 28/100\n",
      "35/35 [==============================] - 0s 1ms/step - loss: 0.0632 - acc: 0.9714\n",
      "Epoch 29/100\n",
      "35/35 [==============================] - 0s 883us/step - loss: 0.0522 - acc: 1.0000\n",
      "Epoch 30/100\n",
      "35/35 [==============================] - 0s 830us/step - loss: 0.1630 - acc: 0.9143\n",
      "Epoch 31/100\n",
      "35/35 [==============================] - 0s 814us/step - loss: 0.2159 - acc: 0.9143\n",
      "Epoch 32/100\n",
      "35/35 [==============================] - 0s 724us/step - loss: 0.1067 - acc: 0.9714\n",
      "Epoch 33/100\n",
      "35/35 [==============================] - 0s 812us/step - loss: 0.0450 - acc: 0.9714\n",
      "Epoch 34/100\n",
      "35/35 [==============================] - 0s 806us/step - loss: 0.0632 - acc: 0.9714\n",
      "Epoch 35/100\n",
      "35/35 [==============================] - 0s 752us/step - loss: 0.0275 - acc: 1.0000\n",
      "Epoch 36/100\n",
      "35/35 [==============================] - 0s 783us/step - loss: 0.0407 - acc: 0.9714\n",
      "Epoch 37/100\n",
      "35/35 [==============================] - 0s 819us/step - loss: 0.0442 - acc: 0.9714\n",
      "Epoch 38/100\n",
      "35/35 [==============================] - 0s 889us/step - loss: 0.0325 - acc: 1.0000\n",
      "Epoch 39/100\n",
      "35/35 [==============================] - 0s 2ms/step - loss: 0.0374 - acc: 1.0000\n",
      "Epoch 40/100\n",
      "35/35 [==============================] - 0s 991us/step - loss: 0.0207 - acc: 1.0000\n",
      "Epoch 41/100\n",
      "35/35 [==============================] - 0s 1ms/step - loss: 0.0242 - acc: 1.0000\n",
      "Epoch 42/100\n",
      "35/35 [==============================] - 0s 825us/step - loss: 0.0658 - acc: 0.9429\n",
      "Epoch 43/100\n",
      "35/35 [==============================] - 0s 912us/step - loss: 0.0570 - acc: 0.9714\n",
      "Epoch 44/100\n",
      "35/35 [==============================] - 0s 852us/step - loss: 0.0290 - acc: 1.0000\n",
      "Epoch 45/100\n",
      "35/35 [==============================] - 0s 790us/step - loss: 0.0172 - acc: 1.0000\n",
      "Epoch 46/100\n",
      "35/35 [==============================] - 0s 797us/step - loss: 0.0356 - acc: 0.9714\n",
      "Epoch 47/100\n",
      "35/35 [==============================] - 0s 844us/step - loss: 0.0124 - acc: 1.0000\n",
      "Epoch 48/100\n",
      "35/35 [==============================] - 0s 815us/step - loss: 0.0099 - acc: 1.0000\n",
      "Epoch 49/100\n",
      "35/35 [==============================] - 0s 1ms/step - loss: 0.0092 - acc: 1.0000\n",
      "Epoch 50/100\n",
      "35/35 [==============================] - 0s 2ms/step - loss: 0.0102 - acc: 1.0000\n",
      "Epoch 51/100\n",
      "35/35 [==============================] - 0s 2ms/step - loss: 0.0081 - acc: 1.0000\n",
      "Epoch 52/100\n",
      "35/35 [==============================] - 0s 1ms/step - loss: 0.0072 - acc: 1.0000\n",
      "Epoch 53/100\n",
      "35/35 [==============================] - 0s 993us/step - loss: 0.0067 - acc: 1.0000\n",
      "Epoch 54/100\n",
      "35/35 [==============================] - 0s 1ms/step - loss: 0.0082 - acc: 1.0000\n",
      "Epoch 55/100\n",
      "35/35 [==============================] - 0s 970us/step - loss: 0.0060 - acc: 1.0000\n",
      "Epoch 56/100\n",
      "35/35 [==============================] - 0s 916us/step - loss: 0.0059 - acc: 1.0000\n",
      "Epoch 57/100\n",
      "35/35 [==============================] - 0s 1ms/step - loss: 0.0053 - acc: 1.0000\n",
      "Epoch 58/100\n",
      "35/35 [==============================] - 0s 2ms/step - loss: 0.0055 - acc: 1.0000\n",
      "Epoch 59/100\n",
      "35/35 [==============================] - 0s 2ms/step - loss: 0.0056 - acc: 1.0000\n",
      "Epoch 60/100\n",
      "35/35 [==============================] - 0s 1ms/step - loss: 0.0057 - acc: 1.0000\n",
      "Epoch 61/100\n",
      "35/35 [==============================] - 0s 1ms/step - loss: 0.0055 - acc: 1.0000\n",
      "Epoch 62/100\n",
      "35/35 [==============================] - 0s 1ms/step - loss: 0.0050 - acc: 1.0000\n",
      "Epoch 63/100\n",
      "35/35 [==============================] - 0s 2ms/step - loss: 0.0048 - acc: 1.0000\n",
      "Epoch 64/100\n",
      "35/35 [==============================] - 0s 2ms/step - loss: 0.0047 - acc: 1.0000\n",
      "Epoch 65/100\n",
      "35/35 [==============================] - 0s 2ms/step - loss: 0.0048 - acc: 1.0000\n",
      "Epoch 66/100\n",
      "35/35 [==============================] - 0s 2ms/step - loss: 0.0055 - acc: 1.0000\n",
      "Epoch 67/100\n",
      "35/35 [==============================] - 0s 2ms/step - loss: 0.0044 - acc: 1.0000\n",
      "Epoch 68/100\n",
      "35/35 [==============================] - 0s 2ms/step - loss: 0.0039 - acc: 1.0000\n",
      "Epoch 69/100\n",
      "35/35 [==============================] - 0s 1ms/step - loss: 0.0040 - acc: 1.0000\n",
      "Epoch 70/100\n",
      "35/35 [==============================] - 0s 2ms/step - loss: 0.0032 - acc: 1.0000\n",
      "Epoch 71/100\n",
      "35/35 [==============================] - 0s 2ms/step - loss: 0.0042 - acc: 1.0000\n",
      "Epoch 72/100\n",
      "35/35 [==============================] - 0s 2ms/step - loss: 0.0032 - acc: 1.0000\n",
      "Epoch 73/100\n",
      "35/35 [==============================] - 0s 2ms/step - loss: 0.0039 - acc: 1.0000\n",
      "Epoch 74/100\n",
      "35/35 [==============================] - 0s 2ms/step - loss: 0.0033 - acc: 1.0000\n",
      "Epoch 75/100\n",
      "35/35 [==============================] - 0s 1ms/step - loss: 0.0030 - acc: 1.0000\n",
      "Epoch 76/100\n",
      "35/35 [==============================] - 0s 941us/step - loss: 0.0032 - acc: 1.0000\n",
      "Epoch 77/100\n",
      "35/35 [==============================] - 0s 1ms/step - loss: 0.0032 - acc: 1.0000\n",
      "Epoch 78/100\n",
      "35/35 [==============================] - 0s 1ms/step - loss: 0.0031 - acc: 1.0000\n",
      "Epoch 79/100\n",
      "35/35 [==============================] - 0s 983us/step - loss: 0.0029 - acc: 1.0000\n",
      "Epoch 80/100\n",
      "35/35 [==============================] - 0s 971us/step - loss: 0.0031 - acc: 1.0000\n",
      "Epoch 81/100\n",
      "35/35 [==============================] - 0s 1ms/step - loss: 0.0028 - acc: 1.0000\n",
      "Epoch 82/100\n",
      "35/35 [==============================] - 0s 1ms/step - loss: 0.0029 - acc: 1.0000\n",
      "Epoch 83/100\n",
      "35/35 [==============================] - 0s 988us/step - loss: 0.0030 - acc: 1.0000\n",
      "Epoch 84/100\n",
      "35/35 [==============================] - 0s 842us/step - loss: 0.0028 - acc: 1.0000\n",
      "Epoch 85/100\n",
      "35/35 [==============================] - 0s 1ms/step - loss: 0.0025 - acc: 1.0000\n",
      "Epoch 86/100\n",
      "35/35 [==============================] - 0s 1ms/step - loss: 0.0024 - acc: 1.0000\n",
      "Epoch 87/100\n",
      "35/35 [==============================] - 0s 1ms/step - loss: 0.0024 - acc: 1.0000\n",
      "Epoch 88/100\n",
      "35/35 [==============================] - 0s 1ms/step - loss: 0.0025 - acc: 1.0000\n",
      "Epoch 89/100\n",
      "35/35 [==============================] - 0s 1ms/step - loss: 0.0026 - acc: 1.0000\n",
      "Epoch 90/100\n",
      "35/35 [==============================] - 0s 1ms/step - loss: 0.0022 - acc: 1.0000\n",
      "Epoch 91/100\n",
      "35/35 [==============================] - 0s 1ms/step - loss: 0.0024 - acc: 1.0000\n",
      "Epoch 92/100\n",
      "35/35 [==============================] - 0s 1ms/step - loss: 0.0023 - acc: 1.0000\n",
      "Epoch 93/100\n",
      "35/35 [==============================] - 0s 1ms/step - loss: 0.0021 - acc: 1.0000\n",
      "Epoch 94/100\n",
      "35/35 [==============================] - 0s 1ms/step - loss: 0.0020 - acc: 1.0000\n",
      "Epoch 95/100\n",
      "35/35 [==============================] - 0s 2ms/step - loss: 0.0022 - acc: 1.0000\n",
      "Epoch 96/100\n",
      "35/35 [==============================] - 0s 2ms/step - loss: 0.0020 - acc: 1.0000\n",
      "Epoch 97/100\n",
      "35/35 [==============================] - 0s 2ms/step - loss: 0.0020 - acc: 1.0000\n",
      "Epoch 98/100\n",
      "35/35 [==============================] - 0s 1ms/step - loss: 0.0019 - acc: 1.0000\n",
      "Epoch 99/100\n",
      "35/35 [==============================] - 0s 903us/step - loss: 0.0019 - acc: 1.0000\n",
      "Epoch 100/100\n",
      "35/35 [==============================] - 0s 1ms/step - loss: 0.0019 - acc: 1.0000\n"
     ]
    }
   ],
   "source": [
    "history2 = net2.fit(X, y_binary, epochs=100, batch_size=1, shuffle=True)"
   ]
  },
  {
   "cell_type": "code",
   "execution_count": 15,
   "metadata": {},
   "outputs": [],
   "source": [
    "grid_prediction = np.argmax(net2.predict(xxyy), axis=1)\n",
    "grid_prediction.shape = (steps, steps)"
   ]
  },
  {
   "cell_type": "code",
   "execution_count": 16,
   "metadata": {},
   "outputs": [
    {
     "data": {
      "image/png": "[encoded data removed]",
      "text/plain": [
       "<Figure size 504x504 with 1 Axes>"
      ]
     },
     "metadata": {
      "needs_background": "light"
     },
     "output_type": "display_data"
    }
   ],
   "source": [
    "plt.figure(figsize=(7,7))\n",
    "plt.contourf(xx, yy, grid_prediction, cmap='Set2')\n",
    "plt.scatter(x1[:,0], x1[:,1], marker='+')\n",
    "plt.scatter(x2[:,0], x2[:,1], marker='o')\n",
    "plt.title('Superficie de desicion')\n",
    "plt.show()"
   ]
  },
  {
   "cell_type": "code",
   "execution_count": 17,
   "metadata": {},
   "outputs": [
    {
     "data": {
      "image/png": "[encoded data removed]",
      "text/plain": [
       "<Figure size 864x432 with 2 Axes>"
      ]
     },
     "metadata": {
      "needs_background": "light"
     },
     "output_type": "display_data"
    }
   ],
   "source": [
    "plt.figure(figsize=(12, 6)).suptitle('Método de momento')\n",
    "plt.subplot(121)\n",
    "plt.plot(history2.epoch, history2.history['loss'])\n",
    "plt.title('Loss')\n",
    "plt.xlabel('Epochs')\n",
    "plt.ylabel('CCE')\n",
    "plt.subplot(122)\n",
    "plt.plot(history2.epoch, history2.history['acc'])\n",
    "plt.title('Accuracy')\n",
    "plt.xlabel('epochs')\n",
    "plt.ylabel('accuracy')\n",
    "plt.show()"
   ]
  },
  {
   "cell_type": "markdown",
   "metadata": {},
   "source": [
    "### Método de Levenberg-Marquardt\n",
    "\n",
    "El algoritmo de Levenberg-Marquardt puede ser visto como una regularización del método de Gauss-Newton, donde un párametro de regularización es actualizado en cada iteración, controlando indirectamente el tamaño del paso, haciendo asi que converga globalmente independientemente del punto de inicio.\n",
    "\n",
    "$$\\nabla w_{t+1} = -(H+\\lambda diag[H])^{-1} \\nabla E(w_t)$$\n",
    "\n",
    "$$H(x) = \\nabla^2f(x) = J(x)^TJ(x)$$\n",
    "\n",
    "El parámetro $\\lambda$ se actualiza tomando en cuenta el siguiente criterio:\n",
    "\n",
    "1. Actualizar pesos\n",
    "2. Calcular el error (MSE)\n",
    "3. Si el error es menor al anterior, aceptar el paso y decrementar $\\lambda$ en un factor $\\mu$\n",
    "4. 3. Si el error es mayor que el anterior, rechazar el paso e incrementar $\\lambda$ en un factor $\\mu$"
   ]
  },
  {
   "cell_type": "code",
   "execution_count": 18,
   "metadata": {},
   "outputs": [],
   "source": [
    "net3 = algorithms.LevenbergMarquardt(\n",
    "    [\n",
    "        layers.Input(2),\n",
    "        layers.Tanh(30),\n",
    "        layers.Relu(30),\n",
    "        layers.Softmax(2)\n",
    "    ],\n",
    "    mu = 0.1, \n",
    "    mu_update_factor = 1.2,\n",
    "    error = 'mse',\n",
    "    shuffle_data = True,\n",
    ")"
   ]
  },
  {
   "cell_type": "code",
   "execution_count": 19,
   "metadata": {},
   "outputs": [],
   "source": [
    "net3.train(X, y_binary, epochs=50)"
   ]
  },
  {
   "cell_type": "code",
   "execution_count": 20,
   "metadata": {},
   "outputs": [
    {
     "data": {
      "image/png": "[encoded data removed]",
      "text/plain": [
       "<Figure size 432x288 with 1 Axes>"
      ]
     },
     "metadata": {
      "needs_background": "light"
     },
     "output_type": "display_data"
    }
   ],
   "source": [
    "_ = plots.error_plot(net3)"
   ]
  },
  {
   "cell_type": "code",
   "execution_count": 21,
   "metadata": {},
   "outputs": [],
   "source": [
    "grid_prediction3 = np.argmax(net3.predict(xxyy), axis=1)\n",
    "grid_prediction3.shape = (steps, steps)"
   ]
  },
  {
   "cell_type": "code",
   "execution_count": 22,
   "metadata": {},
   "outputs": [
    {
     "data": {
      "image/png": "[encoded data removed]",
      "text/plain": [
       "<Figure size 504x504 with 1 Axes>"
      ]
     },
     "metadata": {
      "needs_background": "light"
     },
     "output_type": "display_data"
    }
   ],
   "source": [
    "plt.figure(figsize=(7,7))\n",
    "plt.contourf(xx, yy, grid_prediction3, cmap='Set2')\n",
    "plt.scatter(x1[:,0], x1[:,1], marker='+')\n",
    "plt.scatter(x2[:,0], x2[:,1], marker='o')\n",
    "plt.title('Superficie de desicion')\n",
    "plt.show()"
   ]
  },
  {
   "cell_type": "markdown",
   "metadata": {},
   "source": [
    "### Realizar predicciones con nuevos datos"
   ]
  },
  {
   "cell_type": "code",
   "execution_count": 23,
   "metadata": {},
   "outputs": [],
   "source": [
    "V = [(x, y) for x, y in X]"
   ]
  },
  {
   "cell_type": "code",
   "execution_count": 24,
   "metadata": {},
   "outputs": [],
   "source": [
    "labels = list(np.argmax(net3.predict(X), axis=1))"
   ]
  },
  {
   "cell_type": "code",
   "execution_count": 25,
   "metadata": {},
   "outputs": [],
   "source": [
    "def update_plot(V, labels):\n",
    "    figure = plt.figure(figsize=(9,9))\n",
    "    ax = figure.add_subplot(111)\n",
    "    ax.contourf(xx, yy, grid_prediction3, cmap='Set2')\n",
    "    for (x, y), l in zip(V, labels):\n",
    "        if l == 0:\n",
    "            marker, color = 'o', 'r'\n",
    "        else:\n",
    "            marker, color = '+', 'b'\n",
    "        ax.scatter(x, y, marker=marker, c=color)\n",
    "        ax.grid(True)\n",
    "    plt.show()"
   ]
  },
  {
   "cell_type": "code",
   "execution_count": 26,
   "metadata": {},
   "outputs": [],
   "source": [
    "def predict(X, net):\n",
    "    global V, labels\n",
    "    pred = np.argmax(net.predict(X))\n",
    "    print('Clase ==> ', pred)\n",
    "    for x, y in X:\n",
    "        if (x, y) not in V:\n",
    "            V.append((x, y))\n",
    "            labels.append(pred)\n",
    "    update_plot(V, labels)"
   ]
  },
  {
   "cell_type": "code",
   "execution_count": 27,
   "metadata": {},
   "outputs": [
    {
     "name": "stdin",
     "output_type": "stream",
     "text": [
      "Coordenada x ==>  0\n",
      "Coordenada y ==>  0\n"
     ]
    },
    {
     "name": "stdout",
     "output_type": "stream",
     "text": [
      "Clase ==>  1\n"
     ]
    },
    {
     "data": {
      "image/png": "[encoded data removed]",
      "text/plain": [
       "<Figure size 648x648 with 1 Axes>"
      ]
     },
     "metadata": {
      "needs_background": "light"
     },
     "output_type": "display_data"
    }
   ],
   "source": [
    "xi = float(input('Coordenada x ==> '))\n",
    "yi = float(input('Coordenada y ==> '))\n",
    "\n",
    "predict([[xi, yi]], net3)"
   ]
  },
  {
   "cell_type": "markdown",
   "metadata": {},
   "source": [
    "# Referencias\n",
    "\n",
    "1. Qian, Ning, On the momentum term in gradient descent learning algorithms: [http://citeseerx.ist.psu.edu/viewdoc/download?doi=10.1.1.57.5612&rep=rep1&type=pdf ]\n",
    "2. Ranganatha, Ananth, The Levenberg-Marquardt algorithm: [http://citeseerx.ist.psu.edu/viewdoc/download?doi=10.1.1.10.2258&rep=rep1&type=pdf ]\n",
    "3. Ruder, Sebastian, An overview of gradient descent optimizartion algorithms: [https://arxiv.org/pdf/1609.04747.pdf ]\n",
    "4. Weight inicialization: [https://medium.com/usf-msds/deep-learning-best-practices-1-weight-initialization-14e5c0295b94 ]\n",
    "5. Momentum: https://www.youtube.com/watch?v=k8fTYJPd3_I"
   ]
  }
 ],
 "metadata": {
  "kernelspec": {
   "display_name": "py36",
   "language": "python",
   "name": "py36"
  },
  "language_info": {
   "codemirror_mode": {
    "name": "ipython",
    "version": 3
   },
   "file_extension": ".py",
   "mimetype": "text/x-python",
   "name": "python",
   "nbconvert_exporter": "python",
   "pygments_lexer": "ipython3",
   "version": "3.6.6"
  }
 },
 "nbformat": 4,
 "nbformat_minor": 2
}
