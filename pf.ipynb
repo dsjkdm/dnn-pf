{
 "cells": [
  {
   "cell_type": "markdown",
   "metadata": {},
   "source": [
    "# Introducción a las redes neuronales profundas\n",
    "# Proyecto 2 \n",
    "\n",
    "Clasificar los vectores x1 y x2 usando backpropagation en una red neuronal shallow, para ello usar los siguientes métodos:\n",
    "\n",
    "1. Usando SDBP\n",
    "2. Método de momento\n",
    "3. Método de Levenberg-Marquardt"
   ]
  },
  {
   "cell_type": "code",
   "execution_count": 33,
   "metadata": {},
   "outputs": [],
   "source": [
    "import keras\n",
    "import numpy as np\n",
    "import matplotlib.pyplot as plt\n",
    "from keras.layers import Dense\n",
    "from keras.optimizers import SGD\n",
    "from keras.models import Sequential\n",
    "%matplotlib inline"
   ]
  },
  {
   "cell_type": "code",
   "execution_count": 2,
   "metadata": {},
   "outputs": [],
   "source": [
    "x1 = np.array([[-4,-3],[-4,-1],[-3,-3],[-3,-1],[-3,0],[-2,-2],[0,-1],[1,-1],[1,0],[1,2],\n",
    "               [2,-1],[2,1],[2,2],[2,3],[2,4],[3,-4],[3,-3],[3,-2],[3,-1],[4,-1]])\n",
    "\n",
    "x2 = np.array([[-1,-4],[-1,-3],[-1,2],[-1,3],[-1,4],[0,-4],[0,-3],[0,2],[1,-5],[1,-4],\n",
    "               [1,4],[3,2],[3,3],[4,1],[4,2]])"
   ]
  },
  {
   "cell_type": "code",
   "execution_count": 30,
   "metadata": {},
   "outputs": [
    {
     "data": {
      "image/png": "[encoded data removed]",
      "text/plain": [
       "<Figure size 432x288 with 1 Axes>"
      ]
     },
     "metadata": {
      "needs_background": "light"
     },
     "output_type": "display_data"
    }
   ],
   "source": [
    "plt.scatter(x1[:,0], x1[:,1], marker='+')\n",
    "plt.scatter(x2[:,0], x2[:,1], marker='o')\n",
    "plt.title('Vectores a ser clasificados')\n",
    "plt.grid(True)\n",
    "plt.show()"
   ]
  },
  {
   "cell_type": "code",
   "execution_count": 51,
   "metadata": {},
   "outputs": [],
   "source": [
    "X = np.concatenate((x1, x2))\n",
    "y = np.concatenate((np.zeros(20), np.ones(15)))"
   ]
  },
  {
   "cell_type": "code",
   "execution_count": 58,
   "metadata": {},
   "outputs": [
    {
     "data": {
      "text/plain": [
       "array([1., 1., 1., 1., 1., 1., 1., 1., 1., 1., 1., 1., 1., 1., 1.])"
      ]
     },
     "execution_count": 58,
     "metadata": {},
     "output_type": "execute_result"
    }
   ],
   "source": []
  },
  {
   "cell_type": "markdown",
   "metadata": {},
   "source": [
    "### Método SDBP"
   ]
  },
  {
   "cell_type": "code",
   "execution_count": 108,
   "metadata": {},
   "outputs": [],
   "source": [
    "net1 = Sequential()\n",
    "net1.add(Dense(100, activation='tanh', input_shape=(2,)))\n",
    "net1.add(Dense(100, activation='relu'))\n",
    "net1.add(Dense(1, activation='sigmoid'))"
   ]
  },
  {
   "cell_type": "code",
   "execution_count": 109,
   "metadata": {},
   "outputs": [],
   "source": [
    "net1.compile(optimizer=SGD(lr=0.01), \n",
    "             loss='binary_crossentropy', \n",
    "             metrics=['accuracy'])"
   ]
  },
  {
   "cell_type": "code",
   "execution_count": 110,
   "metadata": {},
   "outputs": [
    {
     "name": "stdout",
     "output_type": "stream",
     "text": [
      "_________________________________________________________________\n",
      "Layer (type)                 Output Shape              Param #   \n",
      "=================================================================\n",
      "dense_20 (Dense)             (None, 100)               300       \n",
      "_________________________________________________________________\n",
      "dense_21 (Dense)             (None, 100)               10100     \n",
      "_________________________________________________________________\n",
      "dense_22 (Dense)             (None, 1)                 101       \n",
      "=================================================================\n",
      "Total params: 10,501\n",
      "Trainable params: 10,501\n",
      "Non-trainable params: 0\n",
      "_________________________________________________________________\n"
     ]
    }
   ],
   "source": [
    "net1.summary()"
   ]
  },
  {
   "cell_type": "code",
   "execution_count": 111,
   "metadata": {},
   "outputs": [
    {
     "name": "stdout",
     "output_type": "stream",
     "text": [
      "Epoch 1/100\n",
      "35/35 [==============================] - 0s 12ms/step - loss: 0.6860 - acc: 0.6000\n",
      "Epoch 2/100\n",
      "35/35 [==============================] - 0s 2ms/step - loss: 0.6237 - acc: 0.7429\n",
      "Epoch 3/100\n",
      "35/35 [==============================] - 0s 1ms/step - loss: 0.5813 - acc: 0.8000\n",
      "Epoch 4/100\n",
      "35/35 [==============================] - 0s 1ms/step - loss: 0.5579 - acc: 0.7714\n",
      "Epoch 5/100\n",
      "35/35 [==============================] - 0s 1ms/step - loss: 0.5441 - acc: 0.7429\n",
      "Epoch 6/100\n",
      "35/35 [==============================] - 0s 1ms/step - loss: 0.5329 - acc: 0.8286\n",
      "Epoch 7/100\n",
      "35/35 [==============================] - 0s 1ms/step - loss: 0.5181 - acc: 0.7429\n",
      "Epoch 8/100\n",
      "35/35 [==============================] - 0s 1ms/step - loss: 0.5060 - acc: 0.7714\n",
      "Epoch 9/100\n",
      "35/35 [==============================] - 0s 1ms/step - loss: 0.4960 - acc: 0.8000\n",
      "Epoch 10/100\n",
      "35/35 [==============================] - 0s 1ms/step - loss: 0.4842 - acc: 0.7714\n",
      "Epoch 11/100\n",
      "35/35 [==============================] - 0s 1ms/step - loss: 0.4770 - acc: 0.7429\n",
      "Epoch 12/100\n",
      "35/35 [==============================] - 0s 2ms/step - loss: 0.4660 - acc: 0.8000\n",
      "Epoch 13/100\n",
      "35/35 [==============================] - 0s 2ms/step - loss: 0.4616 - acc: 0.7714\n",
      "Epoch 14/100\n",
      "35/35 [==============================] - 0s 2ms/step - loss: 0.4498 - acc: 0.8000\n",
      "Epoch 15/100\n",
      "35/35 [==============================] - 0s 2ms/step - loss: 0.4381 - acc: 0.7714\n",
      "Epoch 16/100\n",
      "35/35 [==============================] - 0s 1ms/step - loss: 0.4368 - acc: 0.8000\n",
      "Epoch 17/100\n",
      "35/35 [==============================] - 0s 1ms/step - loss: 0.4290 - acc: 0.8000\n",
      "Epoch 18/100\n",
      "35/35 [==============================] - 0s 1ms/step - loss: 0.4000 - acc: 0.8286\n",
      "Epoch 19/100\n",
      "35/35 [==============================] - 0s 1ms/step - loss: 0.4083 - acc: 0.8571\n",
      "Epoch 20/100\n",
      "35/35 [==============================] - 0s 2ms/step - loss: 0.4053 - acc: 0.8286\n",
      "Epoch 21/100\n",
      "35/35 [==============================] - 0s 2ms/step - loss: 0.3942 - acc: 0.8286\n",
      "Epoch 22/100\n",
      "35/35 [==============================] - 0s 2ms/step - loss: 0.3869 - acc: 0.8286\n",
      "Epoch 23/100\n",
      "35/35 [==============================] - 0s 2ms/step - loss: 0.3680 - acc: 0.8571\n",
      "Epoch 24/100\n",
      "35/35 [==============================] - 0s 2ms/step - loss: 0.3688 - acc: 0.8857\n",
      "Epoch 25/100\n",
      "35/35 [==============================] - 0s 1ms/step - loss: 0.3659 - acc: 0.8571\n",
      "Epoch 26/100\n",
      "35/35 [==============================] - 0s 1ms/step - loss: 0.3602 - acc: 0.8286\n",
      "Epoch 27/100\n",
      "35/35 [==============================] - 0s 1ms/step - loss: 0.3414 - acc: 0.8571\n",
      "Epoch 28/100\n",
      "35/35 [==============================] - 0s 1ms/step - loss: 0.3326 - acc: 0.8571\n",
      "Epoch 29/100\n",
      "35/35 [==============================] - 0s 1ms/step - loss: 0.3370 - acc: 0.8571\n",
      "Epoch 30/100\n",
      "35/35 [==============================] - 0s 3ms/step - loss: 0.3266 - acc: 0.8571\n",
      "Epoch 31/100\n",
      "35/35 [==============================] - 0s 3ms/step - loss: 0.3197 - acc: 0.8571\n",
      "Epoch 32/100\n",
      "35/35 [==============================] - 0s 2ms/step - loss: 0.3212 - acc: 0.8000\n",
      "Epoch 33/100\n",
      "35/35 [==============================] - 0s 2ms/step - loss: 0.2884 - acc: 0.9714\n",
      "Epoch 34/100\n",
      "35/35 [==============================] - 0s 2ms/step - loss: 0.2952 - acc: 0.9143\n",
      "Epoch 35/100\n",
      "35/35 [==============================] - 0s 2ms/step - loss: 0.2977 - acc: 0.8857\n",
      "Epoch 36/100\n",
      "35/35 [==============================] - 0s 2ms/step - loss: 0.2879 - acc: 0.9429\n",
      "Epoch 37/100\n",
      "35/35 [==============================] - 0s 3ms/step - loss: 0.2937 - acc: 0.8571\n",
      "Epoch 38/100\n",
      "35/35 [==============================] - 0s 2ms/step - loss: 0.2792 - acc: 0.8857\n",
      "Epoch 39/100\n",
      "35/35 [==============================] - 0s 1ms/step - loss: 0.2753 - acc: 0.8857\n",
      "Epoch 40/100\n",
      "35/35 [==============================] - 0s 1ms/step - loss: 0.2583 - acc: 0.9143\n",
      "Epoch 41/100\n",
      "35/35 [==============================] - 0s 1ms/step - loss: 0.2605 - acc: 0.8571\n",
      "Epoch 42/100\n",
      "35/35 [==============================] - 0s 1ms/step - loss: 0.2272 - acc: 0.9143\n",
      "Epoch 43/100\n",
      "35/35 [==============================] - 0s 1ms/step - loss: 0.2446 - acc: 0.9143\n",
      "Epoch 44/100\n",
      "35/35 [==============================] - 0s 1ms/step - loss: 0.2375 - acc: 0.8857\n",
      "Epoch 45/100\n",
      "35/35 [==============================] - 0s 2ms/step - loss: 0.2302 - acc: 0.9429\n",
      "Epoch 46/100\n",
      "35/35 [==============================] - 0s 2ms/step - loss: 0.1953 - acc: 0.9429\n",
      "Epoch 47/100\n",
      "35/35 [==============================] - 0s 3ms/step - loss: 0.2324 - acc: 0.8857\n",
      "Epoch 48/100\n",
      "35/35 [==============================] - 0s 3ms/step - loss: 0.2202 - acc: 0.9143\n",
      "Epoch 49/100\n",
      "35/35 [==============================] - 0s 2ms/step - loss: 0.2113 - acc: 0.8857\n",
      "Epoch 50/100\n",
      "35/35 [==============================] - 0s 1ms/step - loss: 0.2130 - acc: 0.9429\n",
      "Epoch 51/100\n",
      "35/35 [==============================] - 0s 1ms/step - loss: 0.1971 - acc: 0.9429\n",
      "Epoch 52/100\n",
      "35/35 [==============================] - 0s 2ms/step - loss: 0.1883 - acc: 0.9143\n",
      "Epoch 53/100\n",
      "35/35 [==============================] - 0s 2ms/step - loss: 0.1875 - acc: 0.9429\n",
      "Epoch 54/100\n",
      "35/35 [==============================] - 0s 2ms/step - loss: 0.1762 - acc: 0.9429\n",
      "Epoch 55/100\n",
      "35/35 [==============================] - 0s 2ms/step - loss: 0.1843 - acc: 0.9429\n",
      "Epoch 56/100\n",
      "35/35 [==============================] - 0s 1ms/step - loss: 0.1810 - acc: 0.9714\n",
      "Epoch 57/100\n",
      "35/35 [==============================] - 0s 1ms/step - loss: 0.1791 - acc: 0.9429\n",
      "Epoch 58/100\n",
      "35/35 [==============================] - 0s 1ms/step - loss: 0.1718 - acc: 0.9429\n",
      "Epoch 59/100\n",
      "35/35 [==============================] - 0s 2ms/step - loss: 0.1688 - acc: 0.9714\n",
      "Epoch 60/100\n",
      "35/35 [==============================] - 0s 2ms/step - loss: 0.1571 - acc: 0.9714\n",
      "Epoch 61/100\n",
      "35/35 [==============================] - 0s 2ms/step - loss: 0.1618 - acc: 0.9714\n",
      "Epoch 62/100\n",
      "35/35 [==============================] - 0s 3ms/step - loss: 0.1475 - acc: 1.0000\n",
      "Epoch 63/100\n",
      "35/35 [==============================] - 0s 1ms/step - loss: 0.1544 - acc: 0.9714\n",
      "Epoch 64/100\n",
      "35/35 [==============================] - 0s 1ms/step - loss: 0.1429 - acc: 0.9429\n",
      "Epoch 65/100\n",
      "35/35 [==============================] - 0s 1ms/step - loss: 0.1443 - acc: 1.0000\n",
      "Epoch 66/100\n",
      "35/35 [==============================] - 0s 2ms/step - loss: 0.1359 - acc: 0.9714\n",
      "Epoch 67/100\n",
      "35/35 [==============================] - 0s 3ms/step - loss: 0.1332 - acc: 0.9714\n",
      "Epoch 68/100\n",
      "35/35 [==============================] - 0s 2ms/step - loss: 0.1434 - acc: 0.9714\n",
      "Epoch 69/100\n",
      "35/35 [==============================] - 0s 1ms/step - loss: 0.1214 - acc: 0.9429\n",
      "Epoch 70/100\n",
      "35/35 [==============================] - 0s 1ms/step - loss: 0.1246 - acc: 0.9714\n",
      "Epoch 71/100\n",
      "35/35 [==============================] - 0s 1ms/step - loss: 0.1323 - acc: 0.9143\n",
      "Epoch 72/100\n",
      "35/35 [==============================] - 0s 979us/step - loss: 0.1221 - acc: 1.0000\n",
      "Epoch 73/100\n",
      "35/35 [==============================] - 0s 1ms/step - loss: 0.1035 - acc: 1.0000\n",
      "Epoch 74/100\n",
      "35/35 [==============================] - 0s 1ms/step - loss: 0.1107 - acc: 1.0000\n",
      "Epoch 75/100\n",
      "35/35 [==============================] - 0s 1ms/step - loss: 0.1180 - acc: 0.9714\n",
      "Epoch 76/100\n",
      "35/35 [==============================] - 0s 2ms/step - loss: 0.0961 - acc: 0.9714\n",
      "Epoch 77/100\n",
      "35/35 [==============================] - 0s 3ms/step - loss: 0.1113 - acc: 0.9714\n",
      "Epoch 78/100\n",
      "35/35 [==============================] - 0s 2ms/step - loss: 0.1070 - acc: 0.9714\n",
      "Epoch 79/100\n",
      "35/35 [==============================] - 0s 2ms/step - loss: 0.0868 - acc: 0.9714\n",
      "Epoch 80/100\n",
      "35/35 [==============================] - 0s 2ms/step - loss: 0.1108 - acc: 0.9714\n",
      "Epoch 81/100\n",
      "35/35 [==============================] - 0s 2ms/step - loss: 0.0991 - acc: 0.9714\n",
      "Epoch 82/100\n",
      "35/35 [==============================] - 0s 2ms/step - loss: 0.0934 - acc: 1.0000\n",
      "Epoch 83/100\n",
      "35/35 [==============================] - 0s 2ms/step - loss: 0.0899 - acc: 1.0000\n",
      "Epoch 84/100\n",
      "35/35 [==============================] - 0s 2ms/step - loss: 0.0899 - acc: 1.0000\n",
      "Epoch 85/100\n",
      "35/35 [==============================] - 0s 2ms/step - loss: 0.0793 - acc: 0.9714\n",
      "Epoch 86/100\n",
      "35/35 [==============================] - 0s 1ms/step - loss: 0.0888 - acc: 1.0000\n",
      "Epoch 87/100\n",
      "35/35 [==============================] - 0s 1ms/step - loss: 0.0828 - acc: 1.0000\n",
      "Epoch 88/100\n",
      "35/35 [==============================] - 0s 1ms/step - loss: 0.0798 - acc: 1.0000\n",
      "Epoch 89/100\n",
      "35/35 [==============================] - 0s 1ms/step - loss: 0.0800 - acc: 1.0000\n",
      "Epoch 90/100\n",
      "35/35 [==============================] - 0s 1ms/step - loss: 0.0774 - acc: 1.0000\n",
      "Epoch 91/100\n",
      "35/35 [==============================] - 0s 1ms/step - loss: 0.0642 - acc: 1.0000\n",
      "Epoch 92/100\n",
      "35/35 [==============================] - 0s 2ms/step - loss: 0.0763 - acc: 1.0000\n",
      "Epoch 93/100\n",
      "35/35 [==============================] - 0s 3ms/step - loss: 0.0744 - acc: 0.9714\n",
      "Epoch 94/100\n",
      "35/35 [==============================] - 0s 2ms/step - loss: 0.0698 - acc: 1.0000\n",
      "Epoch 95/100\n",
      "35/35 [==============================] - 0s 2ms/step - loss: 0.0669 - acc: 1.0000\n",
      "Epoch 96/100\n",
      "35/35 [==============================] - 0s 1ms/step - loss: 0.0650 - acc: 1.0000\n",
      "Epoch 97/100\n",
      "35/35 [==============================] - 0s 1ms/step - loss: 0.0664 - acc: 1.0000\n",
      "Epoch 98/100\n",
      "35/35 [==============================] - 0s 2ms/step - loss: 0.0603 - acc: 1.0000\n",
      "Epoch 99/100\n",
      "35/35 [==============================] - 0s 2ms/step - loss: 0.0558 - acc: 1.0000\n",
      "Epoch 100/100\n",
      "35/35 [==============================] - 0s 2ms/step - loss: 0.0595 - acc: 1.0000\n"
     ]
    },
    {
     "data": {
      "text/plain": [
       "<keras.callbacks.History at 0x7fc3ea636e80>"
      ]
     },
     "execution_count": 111,
     "metadata": {},
     "output_type": "execute_result"
    }
   ],
   "source": [
    "net1.fit(X, y, epochs=100, batch_size=1)"
   ]
  },
  {
   "cell_type": "code",
   "execution_count": 114,
   "metadata": {},
   "outputs": [],
   "source": [
    "steps = 500\n",
    "xx, yy = np.meshgrid(np.linspace(-8, 8, steps), np.linspace(-8, 8, steps))\n",
    "\n",
    "grid_prediction = np.round(net1.predict(np.hstack((xx.reshape(steps*steps, 1), yy.reshape(steps*steps, 1)))))\n",
    "grid_prediction.shape = (steps, steps)"
   ]
  },
  {
   "cell_type": "code",
   "execution_count": 115,
   "metadata": {},
   "outputs": [
    {
     "data": {
      "image/png": "[encoded data removed]",
      "text/plain": [
       "<Figure size 504x504 with 1 Axes>"
      ]
     },
     "metadata": {
      "needs_background": "light"
     },
     "output_type": "display_data"
    }
   ],
   "source": [
    "plt.figure(figsize=(7,7))\n",
    "plt.contourf(xx, yy, grid_prediction>0.5, cmap='jet')\n",
    "plt.scatter(x1[:,0], x1[:,1])\n",
    "plt.scatter(x2[:,0], x2[:,1], marker='x')\n",
    "plt.title('Superficie de desicion')\n",
    "plt.show()"
   ]
  },
  {
   "cell_type": "markdown",
   "metadata": {},
   "source": [
    "### Método de momento"
   ]
  },
  {
   "cell_type": "code",
   "execution_count": 89,
   "metadata": {},
   "outputs": [],
   "source": [
    "net1.compile(optimizer=SGD(lr=0.01, momentum=0.5, nesterov=True), \n",
    "             loss='binary_crossentropy', \n",
    "             metrics=['accuracy'])"
   ]
  },
  {
   "cell_type": "code",
   "execution_count": 92,
   "metadata": {},
   "outputs": [
    {
     "name": "stdout",
     "output_type": "stream",
     "text": [
      "Epoch 1/30\n",
      "35/35 [==============================] - 0s 1ms/step - loss: nan - acc: 0.0000e+00\n",
      "Epoch 2/30\n",
      "35/35 [==============================] - 0s 2ms/step - loss: nan - acc: 0.0000e+00\n",
      "Epoch 3/30\n",
      "35/35 [==============================] - 0s 2ms/step - loss: nan - acc: 0.0000e+00\n",
      "Epoch 4/30\n",
      "35/35 [==============================] - 0s 2ms/step - loss: nan - acc: 0.0000e+00\n",
      "Epoch 5/30\n",
      "35/35 [==============================] - 0s 1ms/step - loss: nan - acc: 0.0000e+00\n",
      "Epoch 6/30\n",
      "35/35 [==============================] - 0s 890us/step - loss: nan - acc: 0.0000e+00\n",
      "Epoch 7/30\n",
      "35/35 [==============================] - 0s 1ms/step - loss: nan - acc: 0.0000e+00\n",
      "Epoch 8/30\n",
      "35/35 [==============================] - 0s 1ms/step - loss: nan - acc: 0.0000e+00\n",
      "Epoch 9/30\n",
      "35/35 [==============================] - 0s 1ms/step - loss: nan - acc: 0.0000e+00\n",
      "Epoch 10/30\n",
      "35/35 [==============================] - 0s 1ms/step - loss: nan - acc: 0.0000e+00\n",
      "Epoch 11/30\n",
      "35/35 [==============================] - 0s 1ms/step - loss: nan - acc: 0.0000e+00\n",
      "Epoch 12/30\n",
      "35/35 [==============================] - 0s 1ms/step - loss: nan - acc: 0.0000e+00\n",
      "Epoch 13/30\n",
      "35/35 [==============================] - 0s 1ms/step - loss: nan - acc: 0.0000e+00\n",
      "Epoch 14/30\n",
      "35/35 [==============================] - 0s 1ms/step - loss: nan - acc: 0.0000e+00\n",
      "Epoch 15/30\n",
      "35/35 [==============================] - 0s 1ms/step - loss: nan - acc: 0.0000e+00\n",
      "Epoch 16/30\n",
      "35/35 [==============================] - 0s 1ms/step - loss: nan - acc: 0.0000e+00\n",
      "Epoch 17/30\n",
      "35/35 [==============================] - 0s 1ms/step - loss: nan - acc: 0.0000e+00\n",
      "Epoch 18/30\n",
      "35/35 [==============================] - 0s 1ms/step - loss: nan - acc: 0.0000e+00\n",
      "Epoch 19/30\n",
      "35/35 [==============================] - 0s 3ms/step - loss: nan - acc: 0.0000e+00\n",
      "Epoch 20/30\n",
      "35/35 [==============================] - 0s 2ms/step - loss: nan - acc: 0.0000e+00\n",
      "Epoch 21/30\n",
      "35/35 [==============================] - 0s 2ms/step - loss: nan - acc: 0.0000e+00\n",
      "Epoch 22/30\n",
      "35/35 [==============================] - 0s 2ms/step - loss: nan - acc: 0.0000e+00\n",
      "Epoch 23/30\n",
      "35/35 [==============================] - 0s 1ms/step - loss: nan - acc: 0.0000e+00\n",
      "Epoch 24/30\n",
      "35/35 [==============================] - 0s 1ms/step - loss: nan - acc: 0.0000e+00\n",
      "Epoch 25/30\n",
      "35/35 [==============================] - 0s 1ms/step - loss: nan - acc: 0.0000e+00\n",
      "Epoch 26/30\n",
      "35/35 [==============================] - 0s 1ms/step - loss: nan - acc: 0.0000e+00\n",
      "Epoch 27/30\n",
      "35/35 [==============================] - 0s 2ms/step - loss: nan - acc: 0.0000e+00\n",
      "Epoch 28/30\n",
      "35/35 [==============================] - 0s 2ms/step - loss: nan - acc: 0.0000e+00\n",
      "Epoch 29/30\n",
      "35/35 [==============================] - 0s 2ms/step - loss: nan - acc: 0.0000e+00\n",
      "Epoch 30/30\n",
      "35/35 [==============================] - 0s 2ms/step - loss: nan - acc: 0.0000e+00\n"
     ]
    },
    {
     "data": {
      "text/plain": [
       "<keras.callbacks.History at 0x7fc3f93abe48>"
      ]
     },
     "execution_count": 92,
     "metadata": {},
     "output_type": "execute_result"
    }
   ],
   "source": [
    "net1.fit(X, y, epochs=30, batch_size=1)"
   ]
  },
  {
   "cell_type": "code",
   "execution_count": null,
   "metadata": {},
   "outputs": [],
   "source": []
  },
  {
   "cell_type": "markdown",
   "metadata": {},
   "source": [
    "### Método de Levenberg-Marquardt"
   ]
  },
  {
   "cell_type": "code",
   "execution_count": null,
   "metadata": {},
   "outputs": [],
   "source": []
  }
 ],
 "metadata": {
  "kernelspec": {
   "display_name": "py36",
   "language": "python",
   "name": "py36"
  },
  "language_info": {
   "codemirror_mode": {
    "name": "ipython",
    "version": 3
   },
   "file_extension": ".py",
   "mimetype": "text/x-python",
   "name": "python",
   "nbconvert_exporter": "python",
   "pygments_lexer": "ipython3",
   "version": "3.6.6"
  }
 },
 "nbformat": 4,
 "nbformat_minor": 2
}
