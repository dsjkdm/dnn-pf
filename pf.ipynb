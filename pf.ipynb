{
 "cells": [
  {
   "cell_type": "markdown",
   "metadata": {},
   "source": [
    "# Introducción a las redes neuronales profundas\n",
    "# Proyecto 2 \n",
    "\n",
    "Clasificar los vectores x1 y x2 usando backpropagation en una red neuronal shallow, para ello usar los siguientes métodos:\n",
    "\n",
    "1. Usando SDBP\n",
    "2. Método de momento\n",
    "3. Método de Levenberg-Marquardt"
   ]
  },
  {
   "cell_type": "code",
   "execution_count": 33,
   "metadata": {},
   "outputs": [],
   "source": [
    "import keras\n",
    "import numpy as np\n",
    "import matplotlib.pyplot as plt\n",
    "from keras.layers import Dense\n",
    "from keras.optimizers import SGD\n",
    "from keras.models import Sequential\n",
    "%matplotlib inline"
   ]
  },
  {
   "cell_type": "code",
   "execution_count": 2,
   "metadata": {},
   "outputs": [],
   "source": [
    "x1 = np.array([[-4,-3],[-4,-1],[-3,-3],[-3,-1],[-3,0],[-2,-2],[0,-1],[1,-1],[1,0],[1,2],\n",
    "               [2,-1],[2,1],[2,2],[2,3],[2,4],[3,-4],[3,-3],[3,-2],[3,-1],[4,-1]])\n",
    "\n",
    "x2 = np.array([[-1,-4],[-1,-3],[-1,2],[-1,3],[-1,4],[0,-4],[0,-3],[0,2],[1,-5],[1,-4],\n",
    "               [1,4],[3,2],[3,3],[4,1],[4,2]])"
   ]
  },
  {
   "cell_type": "code",
   "execution_count": 30,
   "metadata": {},
   "outputs": [
    {
     "data": {
      "image/png": "[encoded data removed]",
      "text/plain": [
       "<Figure size 432x288 with 1 Axes>"
      ]
     },
     "metadata": {
      "needs_background": "light"
     },
     "output_type": "display_data"
    }
   ],
   "source": [
    "plt.scatter(x1[:,0], x1[:,1], marker='+')\n",
    "plt.scatter(x2[:,0], x2[:,1], marker='o')\n",
    "plt.title('Vectores a ser clasificados')\n",
    "plt.grid(True)\n",
    "plt.show()"
   ]
  },
  {
   "cell_type": "code",
   "execution_count": 51,
   "metadata": {},
   "outputs": [],
   "source": [
    "X = np.concatenate((x1, x2))\n",
    "y = np.concatenate((np.zeros(20), np.ones(15)))"
   ]
  },
  {
   "cell_type": "code",
   "execution_count": 58,
   "metadata": {},
   "outputs": [
    {
     "data": {
      "text/plain": [
       "array([1., 1., 1., 1., 1., 1., 1., 1., 1., 1., 1., 1., 1., 1., 1.])"
      ]
     },
     "execution_count": 58,
     "metadata": {},
     "output_type": "execute_result"
    }
   ],
   "source": []
  },
  {
   "cell_type": "markdown",
   "metadata": {},
   "source": [
    "### Método SDBP"
   ]
  },
  {
   "cell_type": "code",
   "execution_count": 285,
   "metadata": {},
   "outputs": [],
   "source": [
    "net1 = Sequential()\n",
    "net1.add(Dense(30, activation='tanh', input_shape=(2,)))\n",
    "net1.add(Dense(30, activation='relu'))\n",
    "net1.add(Dense(1, activation='sigmoid'))"
   ]
  },
  {
   "cell_type": "code",
   "execution_count": 286,
   "metadata": {},
   "outputs": [],
   "source": [
    "net1.compile(optimizer=SGD(lr=0.01), \n",
    "             loss='binary_crossentropy', \n",
    "             metrics=['accuracy'])"
   ]
  },
  {
   "cell_type": "code",
   "execution_count": 287,
   "metadata": {},
   "outputs": [
    {
     "name": "stdout",
     "output_type": "stream",
     "text": [
      "_________________________________________________________________\n",
      "Layer (type)                 Output Shape              Param #   \n",
      "=================================================================\n",
      "dense_95 (Dense)             (None, 30)                90        \n",
      "_________________________________________________________________\n",
      "dense_96 (Dense)             (None, 30)                930       \n",
      "_________________________________________________________________\n",
      "dense_97 (Dense)             (None, 1)                 31        \n",
      "=================================================================\n",
      "Total params: 1,051\n",
      "Trainable params: 1,051\n",
      "Non-trainable params: 0\n",
      "_________________________________________________________________\n"
     ]
    }
   ],
   "source": [
    "net1.summary()"
   ]
  },
  {
   "cell_type": "code",
   "execution_count": 288,
   "metadata": {},
   "outputs": [
    {
     "name": "stdout",
     "output_type": "stream",
     "text": [
      "Epoch 1/100\n",
      "35/35 [==============================] - 1s 26ms/step - loss: 0.7174 - acc: 0.4571\n",
      "Epoch 2/100\n",
      "35/35 [==============================] - 0s 2ms/step - loss: 0.6395 - acc: 0.6286\n",
      "Epoch 3/100\n",
      "35/35 [==============================] - 0s 1ms/step - loss: 0.6045 - acc: 0.6286\n",
      "Epoch 4/100\n",
      "35/35 [==============================] - 0s 2ms/step - loss: 0.5808 - acc: 0.6286\n",
      "Epoch 5/100\n",
      "35/35 [==============================] - 0s 2ms/step - loss: 0.5602 - acc: 0.6857\n",
      "Epoch 6/100\n",
      "35/35 [==============================] - 0s 2ms/step - loss: 0.5421 - acc: 0.6857\n",
      "Epoch 7/100\n",
      "35/35 [==============================] - 0s 2ms/step - loss: 0.5281 - acc: 0.6857\n",
      "Epoch 8/100\n",
      "35/35 [==============================] - 0s 2ms/step - loss: 0.5116 - acc: 0.7714\n",
      "Epoch 9/100\n",
      "35/35 [==============================] - 0s 2ms/step - loss: 0.4989 - acc: 0.7429\n",
      "Epoch 10/100\n",
      "35/35 [==============================] - 0s 2ms/step - loss: 0.4859 - acc: 0.7429\n",
      "Epoch 11/100\n",
      "35/35 [==============================] - 0s 2ms/step - loss: 0.4724 - acc: 0.7429\n",
      "Epoch 12/100\n",
      "35/35 [==============================] - 0s 1ms/step - loss: 0.4588 - acc: 0.8286\n",
      "Epoch 13/100\n",
      "35/35 [==============================] - 0s 2ms/step - loss: 0.4457 - acc: 0.8000\n",
      "Epoch 14/100\n",
      "35/35 [==============================] - 0s 2ms/step - loss: 0.4351 - acc: 0.7714\n",
      "Epoch 15/100\n",
      "35/35 [==============================] - 0s 2ms/step - loss: 0.4224 - acc: 0.8286\n",
      "Epoch 16/100\n",
      "35/35 [==============================] - 0s 3ms/step - loss: 0.4096 - acc: 0.8000\n",
      "Epoch 17/100\n",
      "35/35 [==============================] - 0s 3ms/step - loss: 0.4000 - acc: 0.8000\n",
      "Epoch 18/100\n",
      "35/35 [==============================] - 0s 3ms/step - loss: 0.3876 - acc: 0.7714\n",
      "Epoch 19/100\n",
      "35/35 [==============================] - 0s 2ms/step - loss: 0.3727 - acc: 0.8286\n",
      "Epoch 20/100\n",
      "35/35 [==============================] - 0s 2ms/step - loss: 0.3688 - acc: 0.8286\n",
      "Epoch 21/100\n",
      "35/35 [==============================] - 0s 3ms/step - loss: 0.3587 - acc: 0.7714\n",
      "Epoch 22/100\n",
      "35/35 [==============================] - 0s 3ms/step - loss: 0.3483 - acc: 0.8000\n",
      "Epoch 23/100\n",
      "35/35 [==============================] - 0s 2ms/step - loss: 0.3396 - acc: 0.8286\n",
      "Epoch 24/100\n",
      "35/35 [==============================] - 0s 2ms/step - loss: 0.3302 - acc: 0.8286\n",
      "Epoch 25/100\n",
      "35/35 [==============================] - 0s 1ms/step - loss: 0.3211 - acc: 0.8286\n",
      "Epoch 26/100\n",
      "35/35 [==============================] - 0s 2ms/step - loss: 0.3116 - acc: 0.8286\n",
      "Epoch 27/100\n",
      "35/35 [==============================] - 0s 2ms/step - loss: 0.3009 - acc: 0.8571\n",
      "Epoch 28/100\n",
      "35/35 [==============================] - 0s 2ms/step - loss: 0.2939 - acc: 0.8286\n",
      "Epoch 29/100\n",
      "35/35 [==============================] - 0s 2ms/step - loss: 0.2841 - acc: 0.8857\n",
      "Epoch 30/100\n",
      "35/35 [==============================] - 0s 2ms/step - loss: 0.2788 - acc: 0.9143\n",
      "Epoch 31/100\n",
      "35/35 [==============================] - 0s 2ms/step - loss: 0.2688 - acc: 0.9143\n",
      "Epoch 32/100\n",
      "35/35 [==============================] - 0s 2ms/step - loss: 0.2598 - acc: 0.9143\n",
      "Epoch 33/100\n",
      "35/35 [==============================] - 0s 2ms/step - loss: 0.2535 - acc: 0.9143\n",
      "Epoch 34/100\n",
      "35/35 [==============================] - 0s 3ms/step - loss: 0.2424 - acc: 0.9429\n",
      "Epoch 35/100\n",
      "35/35 [==============================] - 0s 3ms/step - loss: 0.2442 - acc: 0.9143\n",
      "Epoch 36/100\n",
      "35/35 [==============================] - 0s 3ms/step - loss: 0.2303 - acc: 0.9429\n",
      "Epoch 37/100\n",
      "35/35 [==============================] - 0s 3ms/step - loss: 0.2318 - acc: 0.9714\n",
      "Epoch 38/100\n",
      "35/35 [==============================] - 0s 3ms/step - loss: 0.2233 - acc: 0.9714\n",
      "Epoch 39/100\n",
      "35/35 [==============================] - 0s 3ms/step - loss: 0.2172 - acc: 0.9429\n",
      "Epoch 40/100\n",
      "35/35 [==============================] - 0s 3ms/step - loss: 0.2064 - acc: 0.9429\n",
      "Epoch 41/100\n",
      "35/35 [==============================] - 0s 4ms/step - loss: 0.1986 - acc: 0.9714\n",
      "Epoch 42/100\n",
      "35/35 [==============================] - 0s 4ms/step - loss: 0.2035 - acc: 1.0000\n",
      "Epoch 43/100\n",
      "35/35 [==============================] - 0s 3ms/step - loss: 0.1956 - acc: 0.9714\n",
      "Epoch 44/100\n",
      "35/35 [==============================] - 0s 4ms/step - loss: 0.1884 - acc: 1.0000\n",
      "Epoch 45/100\n",
      "35/35 [==============================] - 0s 2ms/step - loss: 0.1889 - acc: 0.9714\n",
      "Epoch 46/100\n",
      "35/35 [==============================] - 0s 1ms/step - loss: 0.1828 - acc: 1.0000\n",
      "Epoch 47/100\n",
      "35/35 [==============================] - 0s 1ms/step - loss: 0.1775 - acc: 1.0000\n",
      "Epoch 48/100\n",
      "35/35 [==============================] - 0s 1ms/step - loss: 0.1768 - acc: 1.0000\n",
      "Epoch 49/100\n",
      "35/35 [==============================] - 0s 2ms/step - loss: 0.1687 - acc: 0.9714\n",
      "Epoch 50/100\n",
      "35/35 [==============================] - 0s 2ms/step - loss: 0.1617 - acc: 0.9714\n",
      "Epoch 51/100\n",
      "35/35 [==============================] - 0s 1ms/step - loss: 0.1639 - acc: 1.0000\n",
      "Epoch 52/100\n",
      "35/35 [==============================] - 0s 2ms/step - loss: 0.1543 - acc: 1.0000\n",
      "Epoch 53/100\n",
      "35/35 [==============================] - 0s 2ms/step - loss: 0.1562 - acc: 0.9714\n",
      "Epoch 54/100\n",
      "35/35 [==============================] - 0s 1ms/step - loss: 0.1495 - acc: 0.9714\n",
      "Epoch 55/100\n",
      "35/35 [==============================] - 0s 3ms/step - loss: 0.1497 - acc: 1.0000\n",
      "Epoch 56/100\n",
      "35/35 [==============================] - 0s 3ms/step - loss: 0.1448 - acc: 1.0000\n",
      "Epoch 57/100\n",
      "35/35 [==============================] - 0s 3ms/step - loss: 0.1359 - acc: 0.9714\n",
      "Epoch 58/100\n",
      "35/35 [==============================] - 0s 1ms/step - loss: 0.1342 - acc: 1.0000\n",
      "Epoch 59/100\n",
      "35/35 [==============================] - 0s 2ms/step - loss: 0.1316 - acc: 1.0000\n",
      "Epoch 60/100\n",
      "35/35 [==============================] - 0s 2ms/step - loss: 0.1322 - acc: 1.0000\n",
      "Epoch 61/100\n",
      "35/35 [==============================] - 0s 3ms/step - loss: 0.1303 - acc: 1.0000\n",
      "Epoch 62/100\n",
      "35/35 [==============================] - 0s 3ms/step - loss: 0.1243 - acc: 1.0000\n",
      "Epoch 63/100\n",
      "35/35 [==============================] - 0s 3ms/step - loss: 0.1255 - acc: 1.0000\n",
      "Epoch 64/100\n",
      "35/35 [==============================] - 0s 2ms/step - loss: 0.1165 - acc: 1.0000\n",
      "Epoch 65/100\n",
      "35/35 [==============================] - 0s 2ms/step - loss: 0.1174 - acc: 1.0000\n",
      "Epoch 66/100\n",
      "35/35 [==============================] - 0s 2ms/step - loss: 0.1163 - acc: 1.0000\n",
      "Epoch 67/100\n",
      "35/35 [==============================] - 0s 2ms/step - loss: 0.1107 - acc: 1.0000\n",
      "Epoch 68/100\n",
      "35/35 [==============================] - 0s 2ms/step - loss: 0.1126 - acc: 1.0000\n",
      "Epoch 69/100\n",
      "35/35 [==============================] - 0s 2ms/step - loss: 0.1063 - acc: 1.0000\n",
      "Epoch 70/100\n",
      "35/35 [==============================] - 0s 2ms/step - loss: 0.1070 - acc: 0.9714\n",
      "Epoch 71/100\n",
      "35/35 [==============================] - 0s 2ms/step - loss: 0.1010 - acc: 1.0000\n",
      "Epoch 72/100\n",
      "35/35 [==============================] - 0s 2ms/step - loss: 0.1050 - acc: 1.0000\n",
      "Epoch 73/100\n",
      "35/35 [==============================] - 0s 2ms/step - loss: 0.0967 - acc: 1.0000\n",
      "Epoch 74/100\n",
      "35/35 [==============================] - 0s 1ms/step - loss: 0.0968 - acc: 1.0000\n",
      "Epoch 75/100\n",
      "35/35 [==============================] - 0s 2ms/step - loss: 0.0970 - acc: 1.0000\n",
      "Epoch 76/100\n",
      "35/35 [==============================] - 0s 4ms/step - loss: 0.0914 - acc: 1.0000\n",
      "Epoch 77/100\n",
      "35/35 [==============================] - 0s 3ms/step - loss: 0.0933 - acc: 1.0000\n",
      "Epoch 78/100\n",
      "35/35 [==============================] - 0s 3ms/step - loss: 0.0933 - acc: 1.0000\n",
      "Epoch 79/100\n",
      "35/35 [==============================] - 0s 2ms/step - loss: 0.0881 - acc: 1.0000\n",
      "Epoch 80/100\n",
      "35/35 [==============================] - 0s 2ms/step - loss: 0.0841 - acc: 1.0000\n",
      "Epoch 81/100\n",
      "35/35 [==============================] - 0s 2ms/step - loss: 0.0836 - acc: 1.0000\n",
      "Epoch 82/100\n",
      "35/35 [==============================] - 0s 2ms/step - loss: 0.0830 - acc: 1.0000\n",
      "Epoch 83/100\n",
      "35/35 [==============================] - 0s 2ms/step - loss: 0.0815 - acc: 1.0000\n",
      "Epoch 84/100\n",
      "35/35 [==============================] - 0s 2ms/step - loss: 0.0782 - acc: 1.0000\n",
      "Epoch 85/100\n",
      "35/35 [==============================] - 0s 2ms/step - loss: 0.0789 - acc: 1.0000\n",
      "Epoch 86/100\n",
      "35/35 [==============================] - 0s 2ms/step - loss: 0.0771 - acc: 1.0000\n",
      "Epoch 87/100\n",
      "35/35 [==============================] - 0s 2ms/step - loss: 0.0727 - acc: 1.0000\n",
      "Epoch 88/100\n",
      "35/35 [==============================] - 0s 2ms/step - loss: 0.0712 - acc: 1.0000\n",
      "Epoch 89/100\n",
      "35/35 [==============================] - 0s 2ms/step - loss: 0.0731 - acc: 1.0000\n",
      "Epoch 90/100\n",
      "35/35 [==============================] - 0s 2ms/step - loss: 0.0689 - acc: 1.0000\n",
      "Epoch 91/100\n",
      "35/35 [==============================] - 0s 3ms/step - loss: 0.0708 - acc: 1.0000\n",
      "Epoch 92/100\n",
      "35/35 [==============================] - 0s 3ms/step - loss: 0.0669 - acc: 1.0000\n",
      "Epoch 93/100\n",
      "35/35 [==============================] - 0s 3ms/step - loss: 0.0691 - acc: 1.0000\n",
      "Epoch 94/100\n",
      "35/35 [==============================] - 0s 2ms/step - loss: 0.0614 - acc: 1.0000\n",
      "Epoch 95/100\n",
      "35/35 [==============================] - 0s 2ms/step - loss: 0.0599 - acc: 1.0000\n",
      "Epoch 96/100\n",
      "35/35 [==============================] - 0s 2ms/step - loss: 0.0617 - acc: 1.0000\n",
      "Epoch 97/100\n",
      "35/35 [==============================] - 0s 2ms/step - loss: 0.0630 - acc: 1.0000\n",
      "Epoch 98/100\n",
      "35/35 [==============================] - 0s 2ms/step - loss: 0.0559 - acc: 1.0000\n",
      "Epoch 99/100\n",
      "35/35 [==============================] - 0s 2ms/step - loss: 0.0621 - acc: 1.0000\n",
      "Epoch 100/100\n",
      "35/35 [==============================] - 0s 2ms/step - loss: 0.0599 - acc: 1.0000\n"
     ]
    }
   ],
   "source": [
    "history1 = net1.fit(X, y, epochs=100, batch_size=1)"
   ]
  },
  {
   "cell_type": "code",
   "execution_count": 289,
   "metadata": {},
   "outputs": [
    {
     "data": {
      "image/png": "[encoded data removed]",
      "text/plain": [
       "<Figure size 864x432 with 2 Axes>"
      ]
     },
     "metadata": {
      "needs_background": "light"
     },
     "output_type": "display_data"
    }
   ],
   "source": [
    "plt.figure(figsize=(12, 6))\n",
    "plt.subplot(121)\n",
    "plt.plot(history1.epoch, history1.history['loss'])\n",
    "plt.title('Loss')\n",
    "plt.subplot(122)\n",
    "plt.plot(history1.epoch, history1.history['acc'])\n",
    "plt.title('Accuracy')\n",
    "plt.show()"
   ]
  },
  {
   "cell_type": "code",
   "execution_count": 290,
   "metadata": {},
   "outputs": [],
   "source": [
    "steps = 500\n",
    "xx, yy = np.meshgrid(np.linspace(-8, 8, steps), np.linspace(-8, 8, steps))\n",
    "\n",
    "grid_prediction = np.round(net1.predict(np.hstack((xx.reshape(steps*steps, 1), yy.reshape(steps*steps, 1)))))\n",
    "grid_prediction.shape = (steps, steps)"
   ]
  },
  {
   "cell_type": "code",
   "execution_count": 291,
   "metadata": {},
   "outputs": [
    {
     "data": {
      "image/png": "[encoded data removed]",
      "text/plain": [
       "<Figure size 504x504 with 1 Axes>"
      ]
     },
     "metadata": {
      "needs_background": "light"
     },
     "output_type": "display_data"
    }
   ],
   "source": [
    "plt.figure(figsize=(7,7))\n",
    "plt.contourf(xx, yy, grid_prediction>0.5, cmap='jet')\n",
    "plt.scatter(x1[:,0], x1[:,1])\n",
    "plt.scatter(x2[:,0], x2[:,1], marker='x')\n",
    "plt.title('Superficie de desicion')\n",
    "plt.show()"
   ]
  },
  {
   "cell_type": "code",
   "execution_count": 300,
   "metadata": {},
   "outputs": [
    {
     "name": "stdin",
     "output_type": "stream",
     "text": [
      "Coordenada x:  0\n",
      "Coordenada y:  0\n"
     ]
    },
    {
     "data": {
      "text/plain": [
       "array([[0.00717137]], dtype=float32)"
      ]
     },
     "execution_count": 300,
     "metadata": {},
     "output_type": "execute_result"
    }
   ],
   "source": [
    "x = float(input('Coordenada x: '))\n",
    "y = float(input('Coordenada y: '))\n",
    "v = np.array([x, y]).reshape(1,2)\n",
    "net1.predict(v)"
   ]
  },
  {
   "cell_type": "markdown",
   "metadata": {},
   "source": [
    "### Método de momento"
   ]
  },
  {
   "cell_type": "code",
   "execution_count": 253,
   "metadata": {},
   "outputs": [],
   "source": [
    "net2 = Sequential()\n",
    "net2.add(Dense(30, activation='tanh', input_shape=(2,)))\n",
    "net2.add(Dense(30, activation='relu'))\n",
    "net2.add(Dense(1, activation='sigmoid'))"
   ]
  },
  {
   "cell_type": "code",
   "execution_count": 254,
   "metadata": {},
   "outputs": [],
   "source": [
    "net2.compile(optimizer=SGD(lr=0.01, momentum=0.9), \n",
    "             loss='binary_crossentropy', \n",
    "             metrics=['accuracy'])"
   ]
  },
  {
   "cell_type": "code",
   "execution_count": 255,
   "metadata": {},
   "outputs": [
    {
     "name": "stdout",
     "output_type": "stream",
     "text": [
      "Epoch 1/50\n",
      "35/35 [==============================] - 1s 21ms/step - loss: 0.7609 - acc: 0.4857\n",
      "Epoch 2/50\n",
      "35/35 [==============================] - 0s 2ms/step - loss: 0.5631 - acc: 0.6571\n",
      "Epoch 3/50\n",
      "35/35 [==============================] - 0s 3ms/step - loss: 0.4765 - acc: 0.8286\n",
      "Epoch 4/50\n",
      "35/35 [==============================] - 0s 3ms/step - loss: 0.3669 - acc: 0.8857\n",
      "Epoch 5/50\n",
      "35/35 [==============================] - 0s 2ms/step - loss: 0.4942 - acc: 0.8286\n",
      "Epoch 6/50\n",
      "35/35 [==============================] - 0s 1ms/step - loss: 0.3026 - acc: 0.8286\n",
      "Epoch 7/50\n",
      "35/35 [==============================] - 0s 1ms/step - loss: 0.3327 - acc: 0.8857\n",
      "Epoch 8/50\n",
      "35/35 [==============================] - 0s 2ms/step - loss: 0.2308 - acc: 0.8857\n",
      "Epoch 9/50\n",
      "35/35 [==============================] - 0s 1ms/step - loss: 0.2638 - acc: 0.8857\n",
      "Epoch 10/50\n",
      "35/35 [==============================] - 0s 1ms/step - loss: 0.1717 - acc: 0.9429\n",
      "Epoch 11/50\n",
      "35/35 [==============================] - 0s 2ms/step - loss: 0.1234 - acc: 0.9714\n",
      "Epoch 12/50\n",
      "35/35 [==============================] - 0s 2ms/step - loss: 0.1400 - acc: 0.9429\n",
      "Epoch 13/50\n",
      "35/35 [==============================] - 0s 2ms/step - loss: 0.1874 - acc: 0.9143\n",
      "Epoch 14/50\n",
      "35/35 [==============================] - 0s 1ms/step - loss: 0.2292 - acc: 0.8286\n",
      "Epoch 15/50\n",
      "35/35 [==============================] - 0s 1ms/step - loss: 0.1019 - acc: 0.9714\n",
      "Epoch 16/50\n",
      "35/35 [==============================] - 0s 2ms/step - loss: 0.1312 - acc: 0.9429\n",
      "Epoch 17/50\n",
      "35/35 [==============================] - 0s 1ms/step - loss: 0.2206 - acc: 0.9143\n",
      "Epoch 18/50\n",
      "35/35 [==============================] - 0s 1ms/step - loss: 0.3975 - acc: 0.8000\n",
      "Epoch 19/50\n",
      "35/35 [==============================] - 0s 1ms/step - loss: 0.1668 - acc: 0.9429\n",
      "Epoch 20/50\n",
      "35/35 [==============================] - 0s 2ms/step - loss: 0.2813 - acc: 0.8571\n",
      "Epoch 21/50\n",
      "35/35 [==============================] - 0s 1ms/step - loss: 0.0943 - acc: 0.9714\n",
      "Epoch 22/50\n",
      "35/35 [==============================] - 0s 1ms/step - loss: 0.1707 - acc: 0.9143\n",
      "Epoch 23/50\n",
      "35/35 [==============================] - 0s 1ms/step - loss: 0.0877 - acc: 0.9714\n",
      "Epoch 24/50\n",
      "35/35 [==============================] - 0s 1ms/step - loss: 0.0831 - acc: 0.9714\n",
      "Epoch 25/50\n",
      "35/35 [==============================] - 0s 2ms/step - loss: 0.1730 - acc: 0.9143\n",
      "Epoch 26/50\n",
      "35/35 [==============================] - 0s 2ms/step - loss: 0.2398 - acc: 0.9143\n",
      "Epoch 27/50\n",
      "35/35 [==============================] - 0s 3ms/step - loss: 0.2585 - acc: 0.8571\n",
      "Epoch 28/50\n",
      "35/35 [==============================] - 0s 2ms/step - loss: 0.1535 - acc: 0.9143\n",
      "Epoch 29/50\n",
      "35/35 [==============================] - 0s 2ms/step - loss: 0.0965 - acc: 1.0000\n",
      "Epoch 30/50\n",
      "35/35 [==============================] - 0s 2ms/step - loss: 0.0935 - acc: 0.9429\n",
      "Epoch 31/50\n",
      "35/35 [==============================] - 0s 2ms/step - loss: 0.0713 - acc: 0.9714\n",
      "Epoch 32/50\n",
      "35/35 [==============================] - 0s 3ms/step - loss: 0.0797 - acc: 0.9429\n",
      "Epoch 33/50\n",
      "35/35 [==============================] - 0s 2ms/step - loss: 0.0562 - acc: 0.9714\n",
      "Epoch 34/50\n",
      "35/35 [==============================] - 0s 2ms/step - loss: 0.0485 - acc: 0.9714\n",
      "Epoch 35/50\n",
      "35/35 [==============================] - 0s 3ms/step - loss: 0.1176 - acc: 0.9714\n",
      "Epoch 36/50\n",
      "35/35 [==============================] - 0s 2ms/step - loss: 0.1114 - acc: 0.9429\n",
      "Epoch 37/50\n",
      "35/35 [==============================] - 0s 1ms/step - loss: 0.0912 - acc: 0.9714\n",
      "Epoch 38/50\n",
      "35/35 [==============================] - 0s 2ms/step - loss: 0.1837 - acc: 0.9429\n",
      "Epoch 39/50\n",
      "35/35 [==============================] - 0s 1ms/step - loss: 0.0716 - acc: 0.9714\n",
      "Epoch 40/50\n",
      "35/35 [==============================] - 0s 2ms/step - loss: 0.0623 - acc: 0.9714\n",
      "Epoch 41/50\n",
      "35/35 [==============================] - 0s 2ms/step - loss: 0.1151 - acc: 0.9429\n",
      "Epoch 42/50\n",
      "35/35 [==============================] - 0s 3ms/step - loss: 0.0533 - acc: 0.9714\n",
      "Epoch 43/50\n",
      "35/35 [==============================] - 0s 4ms/step - loss: 0.1669 - acc: 0.8857\n",
      "Epoch 44/50\n",
      "35/35 [==============================] - 0s 2ms/step - loss: 0.1051 - acc: 0.9714\n",
      "Epoch 45/50\n",
      "35/35 [==============================] - 0s 1ms/step - loss: 0.1201 - acc: 0.9714\n",
      "Epoch 46/50\n",
      "35/35 [==============================] - 0s 2ms/step - loss: 0.0401 - acc: 1.0000\n",
      "Epoch 47/50\n",
      "35/35 [==============================] - 0s 2ms/step - loss: 0.0257 - acc: 1.0000\n",
      "Epoch 48/50\n",
      "35/35 [==============================] - 0s 2ms/step - loss: 0.0515 - acc: 0.9714\n",
      "Epoch 49/50\n",
      "35/35 [==============================] - 0s 1ms/step - loss: 0.1782 - acc: 0.9429\n",
      "Epoch 50/50\n",
      "35/35 [==============================] - 0s 2ms/step - loss: 0.0621 - acc: 0.9714\n"
     ]
    }
   ],
   "source": [
    "history2 = net2.fit(X, y, epochs=50, batch_size=1, shuffle=True)"
   ]
  },
  {
   "cell_type": "code",
   "execution_count": 250,
   "metadata": {},
   "outputs": [],
   "source": [
    "steps = 500\n",
    "xx, yy = np.meshgrid(np.linspace(-8, 8, steps), np.linspace(-8, 8, steps))\n",
    "\n",
    "grid_prediction = np.round(net2.predict(np.hstack((xx.reshape(steps*steps, 1), yy.reshape(steps*steps, 1)))))\n",
    "grid_prediction.shape = (steps, steps)"
   ]
  },
  {
   "cell_type": "code",
   "execution_count": 251,
   "metadata": {},
   "outputs": [
    {
     "data": {
      "image/png": "[encoded data removed]",
      "text/plain": [
       "<Figure size 504x504 with 1 Axes>"
      ]
     },
     "metadata": {
      "needs_background": "light"
     },
     "output_type": "display_data"
    }
   ],
   "source": [
    "plt.figure(figsize=(7,7))\n",
    "plt.contourf(xx, yy, grid_prediction>0.5, cmap='jet')\n",
    "plt.scatter(x1[:,0], x1[:,1])\n",
    "plt.scatter(x2[:,0], x2[:,1], marker='x')\n",
    "plt.title('Superficie de desicion')\n",
    "plt.show()"
   ]
  },
  {
   "cell_type": "markdown",
   "metadata": {},
   "source": [
    "### Método de Levenberg-Marquardt"
   ]
  },
  {
   "cell_type": "code",
   "execution_count": null,
   "metadata": {},
   "outputs": [],
   "source": []
  }
 ],
 "metadata": {
  "kernelspec": {
   "display_name": "py36",
   "language": "python",
   "name": "py36"
  },
  "language_info": {
   "codemirror_mode": {
    "name": "ipython",
    "version": 3
   },
   "file_extension": ".py",
   "mimetype": "text/x-python",
   "name": "python",
   "nbconvert_exporter": "python",
   "pygments_lexer": "ipython3",
   "version": "3.6.6"
  }
 },
 "nbformat": 4,
 "nbformat_minor": 2
}
