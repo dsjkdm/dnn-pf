{
 "cells": [
  {
   "cell_type": "markdown",
   "metadata": {},
   "source": [
    "# Introducción a las redes neuronales profundas\n",
    "# Proyecto 2 \n",
    "\n",
    "Clasificar los vectores x1 y x2 usando backpropagation en una red neuronal shallow, para ello usar los siguientes métodos:\n",
    "\n",
    "1. Usando SDBP\n",
    "2. Método de momento\n",
    "3. Método de Levenberg-Marquardt"
   ]
  },
  {
   "cell_type": "code",
   "execution_count": 301,
   "metadata": {},
   "outputs": [],
   "source": [
    "import keras\n",
    "import numpy as np\n",
    "import matplotlib.pyplot as plt\n",
    "from keras.layers import Dense\n",
    "from keras.optimizers import SGD\n",
    "from keras.models import Sequential\n",
    "from keras.utils import to_categorical\n",
    "%matplotlib inline"
   ]
  },
  {
   "cell_type": "code",
   "execution_count": 2,
   "metadata": {},
   "outputs": [],
   "source": [
    "x1 = np.array([[-4,-3],[-4,-1],[-3,-3],[-3,-1],[-3,0],[-2,-2],[0,-1],[1,-1],[1,0],[1,2],\n",
    "               [2,-1],[2,1],[2,2],[2,3],[2,4],[3,-4],[3,-3],[3,-2],[3,-1],[4,-1]])\n",
    "\n",
    "x2 = np.array([[-1,-4],[-1,-3],[-1,2],[-1,3],[-1,4],[0,-4],[0,-3],[0,2],[1,-5],[1,-4],\n",
    "               [1,4],[3,2],[3,3],[4,1],[4,2]])"
   ]
  },
  {
   "cell_type": "code",
   "execution_count": 30,
   "metadata": {},
   "outputs": [
    {
     "data": {
      "image/png": "[encoded data removed]",
      "text/plain": [
       "<Figure size 432x288 with 1 Axes>"
      ]
     },
     "metadata": {
      "needs_background": "light"
     },
     "output_type": "display_data"
    }
   ],
   "source": [
    "plt.scatter(x1[:,0], x1[:,1], marker='+')\n",
    "plt.scatter(x2[:,0], x2[:,1], marker='o')\n",
    "plt.title('Vectores a ser clasificados')\n",
    "plt.grid(True)\n",
    "plt.show()"
   ]
  },
  {
   "cell_type": "code",
   "execution_count": 302,
   "metadata": {},
   "outputs": [],
   "source": [
    "X = np.concatenate((x1, x2))\n",
    "y = np.concatenate((np.zeros(20), np.ones(15)))\n",
    "y_binary = to_categorical(y)"
   ]
  },
  {
   "cell_type": "markdown",
   "metadata": {},
   "source": [
    "### Método SDBP"
   ]
  },
  {
   "cell_type": "code",
   "execution_count": 303,
   "metadata": {},
   "outputs": [],
   "source": [
    "net1 = Sequential()\n",
    "net1.add(Dense(30, activation='tanh', input_shape=(2,)))\n",
    "net1.add(Dense(30, activation='relu'))\n",
    "net1.add(Dense(2, activation='softmax'))"
   ]
  },
  {
   "cell_type": "code",
   "execution_count": 305,
   "metadata": {},
   "outputs": [],
   "source": [
    "net1.compile(optimizer=SGD(lr=0.01), \n",
    "             loss='categorical_crossentropy', \n",
    "             metrics=['accuracy'])"
   ]
  },
  {
   "cell_type": "code",
   "execution_count": 306,
   "metadata": {},
   "outputs": [
    {
     "name": "stdout",
     "output_type": "stream",
     "text": [
      "_________________________________________________________________\n",
      "Layer (type)                 Output Shape              Param #   \n",
      "=================================================================\n",
      "dense_98 (Dense)             (None, 30)                90        \n",
      "_________________________________________________________________\n",
      "dense_99 (Dense)             (None, 30)                930       \n",
      "_________________________________________________________________\n",
      "dense_100 (Dense)            (None, 2)                 62        \n",
      "=================================================================\n",
      "Total params: 1,082\n",
      "Trainable params: 1,082\n",
      "Non-trainable params: 0\n",
      "_________________________________________________________________\n"
     ]
    }
   ],
   "source": [
    "net1.summary()"
   ]
  },
  {
   "cell_type": "code",
   "execution_count": 307,
   "metadata": {},
   "outputs": [
    {
     "name": "stdout",
     "output_type": "stream",
     "text": [
      "Epoch 1/100\n",
      "35/35 [==============================] - 1s 25ms/step - loss: 0.7568 - acc: 0.4286\n",
      "Epoch 2/100\n",
      "35/35 [==============================] - 0s 2ms/step - loss: 0.6311 - acc: 0.6286\n",
      "Epoch 3/100\n",
      "35/35 [==============================] - 0s 2ms/step - loss: 0.5840 - acc: 0.7714\n",
      "Epoch 4/100\n",
      "35/35 [==============================] - 0s 2ms/step - loss: 0.5539 - acc: 0.7429\n",
      "Epoch 5/100\n",
      "35/35 [==============================] - 0s 2ms/step - loss: 0.5151 - acc: 0.7143\n",
      "Epoch 6/100\n",
      "35/35 [==============================] - 0s 1ms/step - loss: 0.4977 - acc: 0.7714\n",
      "Epoch 7/100\n",
      "35/35 [==============================] - 0s 1ms/step - loss: 0.4575 - acc: 0.8571\n",
      "Epoch 8/100\n",
      "35/35 [==============================] - 0s 1ms/step - loss: 0.4646 - acc: 0.7714\n",
      "Epoch 9/100\n",
      "35/35 [==============================] - 0s 1ms/step - loss: 0.4417 - acc: 0.8286\n",
      "Epoch 10/100\n",
      "35/35 [==============================] - 0s 1ms/step - loss: 0.4245 - acc: 0.8286\n",
      "Epoch 11/100\n",
      "35/35 [==============================] - 0s 2ms/step - loss: 0.4121 - acc: 0.8286\n",
      "Epoch 12/100\n",
      "35/35 [==============================] - 0s 2ms/step - loss: 0.3999 - acc: 0.8000\n",
      "Epoch 13/100\n",
      "35/35 [==============================] - 0s 2ms/step - loss: 0.3906 - acc: 0.8000\n",
      "Epoch 14/100\n",
      "35/35 [==============================] - 0s 1ms/step - loss: 0.3735 - acc: 0.7714\n",
      "Epoch 15/100\n",
      "35/35 [==============================] - 0s 1ms/step - loss: 0.3555 - acc: 0.8571\n",
      "Epoch 16/100\n",
      "35/35 [==============================] - 0s 1ms/step - loss: 0.3479 - acc: 0.8286\n",
      "Epoch 17/100\n",
      "35/35 [==============================] - 0s 2ms/step - loss: 0.3406 - acc: 0.8000\n",
      "Epoch 18/100\n",
      "35/35 [==============================] - 0s 3ms/step - loss: 0.3276 - acc: 0.8571\n",
      "Epoch 19/100\n",
      "35/35 [==============================] - 0s 2ms/step - loss: 0.3206 - acc: 0.8286\n",
      "Epoch 20/100\n",
      "35/35 [==============================] - 0s 2ms/step - loss: 0.2972 - acc: 0.8857\n",
      "Epoch 21/100\n",
      "35/35 [==============================] - 0s 2ms/step - loss: 0.3071 - acc: 0.8286\n",
      "Epoch 22/100\n",
      "35/35 [==============================] - 0s 3ms/step - loss: 0.2982 - acc: 0.8571\n",
      "Epoch 23/100\n",
      "35/35 [==============================] - 0s 3ms/step - loss: 0.2878 - acc: 0.8857\n",
      "Epoch 24/100\n",
      "35/35 [==============================] - 0s 3ms/step - loss: 0.2743 - acc: 0.8000\n",
      "Epoch 25/100\n",
      "35/35 [==============================] - 0s 2ms/step - loss: 0.2667 - acc: 0.9143\n",
      "Epoch 26/100\n",
      "35/35 [==============================] - 0s 1ms/step - loss: 0.2442 - acc: 0.9143\n",
      "Epoch 27/100\n",
      "35/35 [==============================] - 0s 1ms/step - loss: 0.2537 - acc: 0.9143\n",
      "Epoch 28/100\n",
      "35/35 [==============================] - 0s 1ms/step - loss: 0.2498 - acc: 0.9143\n",
      "Epoch 29/100\n",
      "35/35 [==============================] - 0s 2ms/step - loss: 0.2433 - acc: 0.8571\n",
      "Epoch 30/100\n",
      "35/35 [==============================] - 0s 3ms/step - loss: 0.2216 - acc: 0.8571\n",
      "Epoch 31/100\n",
      "35/35 [==============================] - 0s 3ms/step - loss: 0.2365 - acc: 0.9714\n",
      "Epoch 32/100\n",
      "35/35 [==============================] - 0s 3ms/step - loss: 0.2321 - acc: 0.9429\n",
      "Epoch 33/100\n",
      "35/35 [==============================] - 0s 2ms/step - loss: 0.2165 - acc: 0.9143\n",
      "Epoch 34/100\n",
      "35/35 [==============================] - 0s 2ms/step - loss: 0.2156 - acc: 0.8857\n",
      "Epoch 35/100\n",
      "35/35 [==============================] - 0s 1ms/step - loss: 0.1906 - acc: 0.9429\n",
      "Epoch 36/100\n",
      "35/35 [==============================] - 0s 2ms/step - loss: 0.2183 - acc: 0.9143\n",
      "Epoch 37/100\n",
      "35/35 [==============================] - 0s 1ms/step - loss: 0.1944 - acc: 0.9143\n",
      "Epoch 38/100\n",
      "35/35 [==============================] - 0s 2ms/step - loss: 0.1992 - acc: 0.9143\n",
      "Epoch 39/100\n",
      "35/35 [==============================] - 0s 3ms/step - loss: 0.1824 - acc: 0.9143\n",
      "Epoch 40/100\n",
      "35/35 [==============================] - 0s 3ms/step - loss: 0.1744 - acc: 0.9429\n",
      "Epoch 41/100\n",
      "35/35 [==============================] - 0s 3ms/step - loss: 0.1759 - acc: 0.9429\n",
      "Epoch 42/100\n",
      "35/35 [==============================] - 0s 3ms/step - loss: 0.1774 - acc: 0.9714\n",
      "Epoch 43/100\n",
      "35/35 [==============================] - 0s 2ms/step - loss: 0.1728 - acc: 0.9429\n",
      "Epoch 44/100\n",
      "35/35 [==============================] - 0s 2ms/step - loss: 0.1503 - acc: 0.9714\n",
      "Epoch 45/100\n",
      "35/35 [==============================] - 0s 1ms/step - loss: 0.1668 - acc: 0.9429\n",
      "Epoch 46/100\n",
      "35/35 [==============================] - 0s 2ms/step - loss: 0.1401 - acc: 0.9429\n",
      "Epoch 47/100\n",
      "35/35 [==============================] - 0s 2ms/step - loss: 0.1540 - acc: 0.9714\n",
      "Epoch 48/100\n",
      "35/35 [==============================] - 0s 3ms/step - loss: 0.1536 - acc: 0.9714\n",
      "Epoch 49/100\n",
      "35/35 [==============================] - 0s 3ms/step - loss: 0.1390 - acc: 0.9429\n",
      "Epoch 50/100\n",
      "35/35 [==============================] - 0s 2ms/step - loss: 0.1372 - acc: 0.9143\n",
      "Epoch 51/100\n",
      "35/35 [==============================] - 0s 1ms/step - loss: 0.1375 - acc: 0.9714\n",
      "Epoch 52/100\n",
      "35/35 [==============================] - 0s 1ms/step - loss: 0.1393 - acc: 0.9429\n",
      "Epoch 53/100\n",
      "35/35 [==============================] - 0s 2ms/step - loss: 0.1407 - acc: 0.9714\n",
      "Epoch 54/100\n",
      "35/35 [==============================] - 0s 1ms/step - loss: 0.1363 - acc: 0.9429\n",
      "Epoch 55/100\n",
      "35/35 [==============================] - 0s 1ms/step - loss: 0.1291 - acc: 0.9714\n",
      "Epoch 56/100\n",
      "35/35 [==============================] - 0s 1ms/step - loss: 0.1276 - acc: 0.9714\n",
      "Epoch 57/100\n",
      "35/35 [==============================] - 0s 1ms/step - loss: 0.1193 - acc: 0.9714\n",
      "Epoch 58/100\n",
      "35/35 [==============================] - 0s 2ms/step - loss: 0.1201 - acc: 0.9714\n",
      "Epoch 59/100\n",
      "35/35 [==============================] - 0s 2ms/step - loss: 0.1070 - acc: 0.9714\n",
      "Epoch 60/100\n",
      "35/35 [==============================] - 0s 3ms/step - loss: 0.1208 - acc: 1.0000\n",
      "Epoch 61/100\n",
      "35/35 [==============================] - 0s 3ms/step - loss: 0.1123 - acc: 1.0000\n",
      "Epoch 62/100\n",
      "35/35 [==============================] - 0s 2ms/step - loss: 0.1035 - acc: 1.0000\n",
      "Epoch 63/100\n",
      "35/35 [==============================] - 0s 2ms/step - loss: 0.0958 - acc: 1.0000\n",
      "Epoch 64/100\n",
      "35/35 [==============================] - 0s 2ms/step - loss: 0.1060 - acc: 0.9714\n",
      "Epoch 65/100\n",
      "35/35 [==============================] - 0s 1ms/step - loss: 0.0991 - acc: 1.0000\n",
      "Epoch 66/100\n",
      "35/35 [==============================] - 0s 1ms/step - loss: 0.0972 - acc: 1.0000\n",
      "Epoch 67/100\n",
      "35/35 [==============================] - 0s 1ms/step - loss: 0.0996 - acc: 0.9714\n",
      "Epoch 68/100\n",
      "35/35 [==============================] - 0s 1ms/step - loss: 0.0929 - acc: 1.0000\n",
      "Epoch 69/100\n",
      "35/35 [==============================] - 0s 1ms/step - loss: 0.0921 - acc: 1.0000\n",
      "Epoch 70/100\n",
      "35/35 [==============================] - 0s 2ms/step - loss: 0.0876 - acc: 0.9714\n",
      "Epoch 71/100\n",
      "35/35 [==============================] - 0s 3ms/step - loss: 0.0915 - acc: 0.9429\n",
      "Epoch 72/100\n",
      "35/35 [==============================] - 0s 3ms/step - loss: 0.0805 - acc: 1.0000\n",
      "Epoch 73/100\n",
      "35/35 [==============================] - 0s 3ms/step - loss: 0.0796 - acc: 1.0000\n",
      "Epoch 74/100\n",
      "35/35 [==============================] - 0s 2ms/step - loss: 0.0755 - acc: 0.9714\n",
      "Epoch 75/100\n",
      "35/35 [==============================] - 0s 2ms/step - loss: 0.0656 - acc: 0.9714\n",
      "Epoch 76/100\n",
      "35/35 [==============================] - 0s 2ms/step - loss: 0.0828 - acc: 1.0000\n",
      "Epoch 77/100\n",
      "35/35 [==============================] - 0s 2ms/step - loss: 0.0775 - acc: 1.0000\n",
      "Epoch 78/100\n",
      "35/35 [==============================] - 0s 3ms/step - loss: 0.0668 - acc: 1.0000\n",
      "Epoch 79/100\n",
      "35/35 [==============================] - 0s 3ms/step - loss: 0.0664 - acc: 1.0000\n",
      "Epoch 80/100\n",
      "35/35 [==============================] - 0s 3ms/step - loss: 0.0605 - acc: 0.9714\n",
      "Epoch 81/100\n",
      "35/35 [==============================] - 0s 3ms/step - loss: 0.0674 - acc: 1.0000\n",
      "Epoch 82/100\n",
      "35/35 [==============================] - 0s 2ms/step - loss: 0.0678 - acc: 0.9714\n",
      "Epoch 83/100\n",
      "35/35 [==============================] - 0s 2ms/step - loss: 0.0602 - acc: 1.0000\n",
      "Epoch 84/100\n",
      "35/35 [==============================] - 0s 1ms/step - loss: 0.0629 - acc: 1.0000\n",
      "Epoch 85/100\n",
      "35/35 [==============================] - 0s 1ms/step - loss: 0.0625 - acc: 0.9714\n",
      "Epoch 86/100\n",
      "35/35 [==============================] - 0s 1ms/step - loss: 0.0607 - acc: 1.0000\n",
      "Epoch 87/100\n",
      "35/35 [==============================] - 0s 1ms/step - loss: 0.0523 - acc: 1.0000\n",
      "Epoch 88/100\n",
      "35/35 [==============================] - 0s 2ms/step - loss: 0.0475 - acc: 1.0000\n",
      "Epoch 89/100\n",
      "35/35 [==============================] - 0s 2ms/step - loss: 0.0532 - acc: 1.0000\n",
      "Epoch 90/100\n",
      "35/35 [==============================] - 0s 2ms/step - loss: 0.0572 - acc: 1.0000\n",
      "Epoch 91/100\n",
      "35/35 [==============================] - 0s 2ms/step - loss: 0.0540 - acc: 1.0000\n",
      "Epoch 92/100\n",
      "35/35 [==============================] - 0s 3ms/step - loss: 0.0522 - acc: 1.0000\n",
      "Epoch 93/100\n",
      "35/35 [==============================] - 0s 3ms/step - loss: 0.0459 - acc: 1.0000\n",
      "Epoch 94/100\n",
      "35/35 [==============================] - 0s 3ms/step - loss: 0.0462 - acc: 1.0000\n",
      "Epoch 95/100\n",
      "35/35 [==============================] - 0s 2ms/step - loss: 0.0457 - acc: 1.0000\n",
      "Epoch 96/100\n",
      "35/35 [==============================] - 0s 2ms/step - loss: 0.0449 - acc: 1.0000\n",
      "Epoch 97/100\n",
      "35/35 [==============================] - 0s 2ms/step - loss: 0.0447 - acc: 1.0000\n",
      "Epoch 98/100\n",
      "35/35 [==============================] - 0s 3ms/step - loss: 0.0438 - acc: 1.0000\n",
      "Epoch 99/100\n",
      "35/35 [==============================] - 0s 3ms/step - loss: 0.0408 - acc: 1.0000\n",
      "Epoch 100/100\n",
      "35/35 [==============================] - 0s 3ms/step - loss: 0.0381 - acc: 1.0000\n"
     ]
    }
   ],
   "source": [
    "history1 = net1.fit(X, y_binary, epochs=100, batch_size=1)"
   ]
  },
  {
   "cell_type": "code",
   "execution_count": 308,
   "metadata": {},
   "outputs": [
    {
     "data": {
      "image/png": "[encoded data removed]",
      "text/plain": [
       "<Figure size 864x432 with 2 Axes>"
      ]
     },
     "metadata": {
      "needs_background": "light"
     },
     "output_type": "display_data"
    }
   ],
   "source": [
    "plt.figure(figsize=(12, 6))\n",
    "plt.subplot(121)\n",
    "plt.plot(history1.epoch, history1.history['loss'])\n",
    "plt.title('Loss')\n",
    "plt.subplot(122)\n",
    "plt.plot(history1.epoch, history1.history['acc'])\n",
    "plt.title('Accuracy')\n",
    "plt.show()"
   ]
  },
  {
   "cell_type": "code",
   "execution_count": 326,
   "metadata": {},
   "outputs": [
    {
     "ename": "ValueError",
     "evalue": "cannot reshape array of size 250000 into shape (1,)",
     "output_type": "error",
     "traceback": [
      "\u001b[0;31m-----------------------------------------------------------------\u001b[0m",
      "\u001b[0;31mValueError\u001b[0m                      Traceback (most recent call last)",
      "\u001b[0;32m<ipython-input-326-f87abd91f56f>\u001b[0m in \u001b[0;36m<module>\u001b[0;34m()\u001b[0m\n\u001b[0;32m----> 1\u001b[0;31m \u001b[0mxx\u001b[0m\u001b[0;34m.\u001b[0m\u001b[0mflatten\u001b[0m\u001b[0;34m(\u001b[0m\u001b[0;34m)\u001b[0m\u001b[0;34m.\u001b[0m\u001b[0mreshape\u001b[0m\u001b[0;34m(\u001b[0m\u001b[0;36m1\u001b[0m\u001b[0;34m,\u001b[0m\u001b[0;34m)\u001b[0m\u001b[0;34m\u001b[0m\u001b[0m\n\u001b[0m",
      "\u001b[0;31mValueError\u001b[0m: cannot reshape array of size 250000 into shape (1,)"
     ]
    }
   ],
   "source": [
    "xx."
   ]
  },
  {
   "cell_type": "code",
   "execution_count": 395,
   "metadata": {},
   "outputs": [],
   "source": [
    "steps = 500\n",
    "xx, yy = np.meshgrid(np.linspace(-8, 8, steps), np.linspace(-8, 8, steps))\n",
    "\n",
    "xxyy = np.hstack((xx.reshape(steps*steps, 1), yy.reshape(steps*steps, 1)))\n",
    "grid_prediction = np.argmax(net1.predict(xxyy), axis=1)\n",
    "grid_prediction.shape = (steps, steps)"
   ]
  },
  {
   "cell_type": "code",
   "execution_count": 396,
   "metadata": {},
   "outputs": [
    {
     "data": {
      "image/png": "[encoded data removed]",
      "text/plain": [
       "<Figure size 504x504 with 1 Axes>"
      ]
     },
     "metadata": {
      "needs_background": "light"
     },
     "output_type": "display_data"
    }
   ],
   "source": [
    "plt.figure(figsize=(7,7))\n",
    "plt.contourf(xx, yy, grid_prediction, cmap='jet')\n",
    "plt.scatter(x1[:,0], x1[:,1])\n",
    "plt.scatter(x2[:,0], x2[:,1], marker='x')\n",
    "plt.title('Superficie de desicion')\n",
    "plt.show()"
   ]
  },
  {
   "cell_type": "code",
   "execution_count": 363,
   "metadata": {},
   "outputs": [
    {
     "name": "stdout",
     "output_type": "stream",
     "text": [
      "[0 1]\n",
      "(1, 2)\n"
     ]
    }
   ],
   "source": [
    "x = 0\n",
    "y = 0\n",
    "\n",
    "v = np.argmax(net1.predict(np.array([[x,y], [5,2]])), axis=1)\n",
    "\n",
    "print(v)\n",
    "print(np.array([[x,y]]).shape)"
   ]
  },
  {
   "cell_type": "markdown",
   "metadata": {},
   "source": [
    "### Método de momento"
   ]
  },
  {
   "cell_type": "code",
   "execution_count": 406,
   "metadata": {},
   "outputs": [],
   "source": [
    "net2 = Sequential()\n",
    "net2.add(Dense(30, activation='tanh', input_shape=(2,)))\n",
    "net2.add(Dense(30, activation='relu'))\n",
    "net2.add(Dense(2, activation='softmax'))"
   ]
  },
  {
   "cell_type": "code",
   "execution_count": 407,
   "metadata": {},
   "outputs": [],
   "source": [
    "net2.compile(optimizer=SGD(lr=0.01, momentum=0.4), \n",
    "             loss='categorical_crossentropy', \n",
    "             metrics=['accuracy'])"
   ]
  },
  {
   "cell_type": "code",
   "execution_count": 408,
   "metadata": {},
   "outputs": [
    {
     "name": "stdout",
     "output_type": "stream",
     "text": [
      "Epoch 1/55\n",
      "35/35 [==============================] - 1s 25ms/step - loss: 0.6795 - acc: 0.6000\n",
      "Epoch 2/55\n",
      "35/35 [==============================] - 0s 2ms/step - loss: 0.6294 - acc: 0.5714\n",
      "Epoch 3/55\n",
      "35/35 [==============================] - 0s 2ms/step - loss: 0.5803 - acc: 0.6857\n",
      "Epoch 4/55\n",
      "35/35 [==============================] - 0s 2ms/step - loss: 0.5553 - acc: 0.8000\n",
      "Epoch 5/55\n",
      "35/35 [==============================] - 0s 2ms/step - loss: 0.5190 - acc: 0.7429\n",
      "Epoch 6/55\n",
      "35/35 [==============================] - 0s 4ms/step - loss: 0.4974 - acc: 0.8286\n",
      "Epoch 7/55\n",
      "35/35 [==============================] - 0s 3ms/step - loss: 0.4764 - acc: 0.7714\n",
      "Epoch 8/55\n",
      "35/35 [==============================] - 0s 3ms/step - loss: 0.4624 - acc: 0.8000\n",
      "Epoch 9/55\n",
      "35/35 [==============================] - 0s 2ms/step - loss: 0.4435 - acc: 0.8286\n",
      "Epoch 10/55\n",
      "35/35 [==============================] - 0s 2ms/step - loss: 0.4159 - acc: 0.8571\n",
      "Epoch 11/55\n",
      "35/35 [==============================] - 0s 2ms/step - loss: 0.3949 - acc: 0.8286\n",
      "Epoch 12/55\n",
      "35/35 [==============================] - 0s 2ms/step - loss: 0.3887 - acc: 0.8571\n",
      "Epoch 13/55\n",
      "35/35 [==============================] - 0s 2ms/step - loss: 0.3759 - acc: 0.8000\n",
      "Epoch 14/55\n",
      "35/35 [==============================] - 0s 2ms/step - loss: 0.3560 - acc: 0.8571\n",
      "Epoch 15/55\n",
      "35/35 [==============================] - 0s 2ms/step - loss: 0.3211 - acc: 0.9143\n",
      "Epoch 16/55\n",
      "35/35 [==============================] - 0s 2ms/step - loss: 0.3270 - acc: 0.8857\n",
      "Epoch 17/55\n",
      "35/35 [==============================] - 0s 1ms/step - loss: 0.2861 - acc: 0.8857\n",
      "Epoch 18/55\n",
      "35/35 [==============================] - 0s 2ms/step - loss: 0.2746 - acc: 0.9143\n",
      "Epoch 19/55\n",
      "35/35 [==============================] - 0s 3ms/step - loss: 0.2897 - acc: 0.8571\n",
      "Epoch 20/55\n",
      "35/35 [==============================] - 0s 3ms/step - loss: 0.2423 - acc: 0.9143\n",
      "Epoch 21/55\n",
      "35/35 [==============================] - 0s 4ms/step - loss: 0.2811 - acc: 0.8286\n",
      "Epoch 22/55\n",
      "35/35 [==============================] - 0s 3ms/step - loss: 0.2607 - acc: 0.8571\n",
      "Epoch 23/55\n",
      "35/35 [==============================] - 0s 4ms/step - loss: 0.2480 - acc: 0.8571\n",
      "Epoch 24/55\n",
      "35/35 [==============================] - 0s 4ms/step - loss: 0.2255 - acc: 0.9143\n",
      "Epoch 25/55\n",
      "35/35 [==============================] - 0s 1ms/step - loss: 0.2243 - acc: 0.9143\n",
      "Epoch 26/55\n",
      "35/35 [==============================] - 0s 2ms/step - loss: 0.1940 - acc: 0.9429\n",
      "Epoch 27/55\n",
      "35/35 [==============================] - 0s 3ms/step - loss: 0.2209 - acc: 0.8857\n",
      "Epoch 28/55\n",
      "35/35 [==============================] - 0s 2ms/step - loss: 0.1786 - acc: 0.8857\n",
      "Epoch 29/55\n",
      "35/35 [==============================] - 0s 2ms/step - loss: 0.1871 - acc: 0.9143\n",
      "Epoch 30/55\n",
      "35/35 [==============================] - 0s 2ms/step - loss: 0.1925 - acc: 0.9429\n",
      "Epoch 31/55\n",
      "35/35 [==============================] - 0s 2ms/step - loss: 0.1741 - acc: 0.9714\n",
      "Epoch 32/55\n",
      "35/35 [==============================] - 0s 2ms/step - loss: 0.1836 - acc: 0.9143\n",
      "Epoch 33/55\n",
      "35/35 [==============================] - 0s 2ms/step - loss: 0.1512 - acc: 0.9429\n",
      "Epoch 34/55\n",
      "35/35 [==============================] - 0s 2ms/step - loss: 0.1555 - acc: 0.9143\n",
      "Epoch 35/55\n",
      "35/35 [==============================] - 0s 3ms/step - loss: 0.1735 - acc: 0.9429\n",
      "Epoch 36/55\n",
      "35/35 [==============================] - 0s 2ms/step - loss: 0.1500 - acc: 0.9714\n",
      "Epoch 37/55\n",
      "35/35 [==============================] - 0s 2ms/step - loss: 0.1337 - acc: 1.0000\n",
      "Epoch 38/55\n",
      "35/35 [==============================] - 0s 4ms/step - loss: 0.1396 - acc: 0.9714\n",
      "Epoch 39/55\n",
      "35/35 [==============================] - 0s 4ms/step - loss: 0.1426 - acc: 0.9429\n",
      "Epoch 40/55\n",
      "35/35 [==============================] - 0s 2ms/step - loss: 0.1067 - acc: 0.9714\n",
      "Epoch 41/55\n",
      "35/35 [==============================] - 0s 2ms/step - loss: 0.1345 - acc: 0.9143\n",
      "Epoch 42/55\n",
      "35/35 [==============================] - 0s 2ms/step - loss: 0.1057 - acc: 0.9714\n",
      "Epoch 43/55\n",
      "35/35 [==============================] - 0s 2ms/step - loss: 0.0993 - acc: 0.9714\n",
      "Epoch 44/55\n",
      "35/35 [==============================] - 0s 4ms/step - loss: 0.1024 - acc: 0.9714\n",
      "Epoch 45/55\n",
      "35/35 [==============================] - 0s 4ms/step - loss: 0.1254 - acc: 0.9143\n",
      "Epoch 46/55\n",
      "35/35 [==============================] - 0s 2ms/step - loss: 0.0899 - acc: 0.9429\n",
      "Epoch 47/55\n",
      "35/35 [==============================] - 0s 2ms/step - loss: 0.1202 - acc: 0.9429\n",
      "Epoch 48/55\n",
      "35/35 [==============================] - 0s 2ms/step - loss: 0.0818 - acc: 1.0000\n",
      "Epoch 49/55\n",
      "35/35 [==============================] - 0s 2ms/step - loss: 0.0769 - acc: 1.0000\n",
      "Epoch 50/55\n",
      "35/35 [==============================] - 0s 2ms/step - loss: 0.0734 - acc: 1.0000\n",
      "Epoch 51/55\n",
      "35/35 [==============================] - 0s 2ms/step - loss: 0.0641 - acc: 0.9714\n",
      "Epoch 52/55\n",
      "35/35 [==============================] - 0s 3ms/step - loss: 0.0753 - acc: 0.9714\n",
      "Epoch 53/55\n",
      "35/35 [==============================] - 0s 3ms/step - loss: 0.0785 - acc: 0.9714\n",
      "Epoch 54/55\n",
      "35/35 [==============================] - 0s 3ms/step - loss: 0.0737 - acc: 0.9714\n",
      "Epoch 55/55\n",
      "35/35 [==============================] - 0s 2ms/step - loss: 0.0604 - acc: 1.0000\n"
     ]
    }
   ],
   "source": [
    "history2 = net2.fit(X, y_binary, epochs=55, batch_size=1, shuffle=True)"
   ]
  },
  {
   "cell_type": "code",
   "execution_count": 409,
   "metadata": {},
   "outputs": [],
   "source": [
    "grid_prediction = np.argmax(net2.predict(xxyy), axis=1)\n",
    "grid_prediction.shape = (steps, steps)"
   ]
  },
  {
   "cell_type": "code",
   "execution_count": 410,
   "metadata": {},
   "outputs": [
    {
     "data": {
      "image/png": "[encoded data removed]",
      "text/plain": [
       "<Figure size 504x504 with 1 Axes>"
      ]
     },
     "metadata": {
      "needs_background": "light"
     },
     "output_type": "display_data"
    }
   ],
   "source": [
    "plt.figure(figsize=(7,7))\n",
    "plt.contourf(xx, yy, grid_prediction, cmap='jet')\n",
    "plt.scatter(x1[:,0], x1[:,1])\n",
    "plt.scatter(x2[:,0], x2[:,1], marker='x')\n",
    "plt.title('Superficie de desicion')\n",
    "plt.show()"
   ]
  },
  {
   "cell_type": "markdown",
   "metadata": {},
   "source": [
    "### Método de Levenberg-Marquardt"
   ]
  },
  {
   "cell_type": "code",
   "execution_count": null,
   "metadata": {},
   "outputs": [],
   "source": []
  }
 ],
 "metadata": {
  "kernelspec": {
   "display_name": "py36",
   "language": "python",
   "name": "py36"
  },
  "language_info": {
   "codemirror_mode": {
    "name": "ipython",
    "version": 3
   },
   "file_extension": ".py",
   "mimetype": "text/x-python",
   "name": "python",
   "nbconvert_exporter": "python",
   "pygments_lexer": "ipython3",
   "version": "3.6.6"
  }
 },
 "nbformat": 4,
 "nbformat_minor": 2
}
